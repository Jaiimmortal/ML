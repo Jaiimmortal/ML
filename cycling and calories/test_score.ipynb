{
 "cells": [
  {
   "cell_type": "code",
   "execution_count": 81,
   "metadata": {},
   "outputs": [
    {
     "data": {
      "text/html": [
       "<div>\n",
       "<style>\n",
       "    .dataframe thead tr:only-child th {\n",
       "        text-align: right;\n",
       "    }\n",
       "\n",
       "    .dataframe thead th {\n",
       "        text-align: left;\n",
       "    }\n",
       "\n",
       "    .dataframe tbody tr th {\n",
       "        vertical-align: top;\n",
       "    }\n",
       "</style>\n",
       "<table border=\"1\" class=\"dataframe\">\n",
       "  <thead>\n",
       "    <tr style=\"text-align: right;\">\n",
       "      <th></th>\n",
       "      <th>0</th>\n",
       "      <th>1</th>\n",
       "    </tr>\n",
       "  </thead>\n",
       "  <tbody>\n",
       "    <tr>\n",
       "      <th>0</th>\n",
       "      <td>32.502345</td>\n",
       "      <td>31.707006</td>\n",
       "    </tr>\n",
       "    <tr>\n",
       "      <th>1</th>\n",
       "      <td>53.426804</td>\n",
       "      <td>68.777596</td>\n",
       "    </tr>\n",
       "    <tr>\n",
       "      <th>2</th>\n",
       "      <td>61.530358</td>\n",
       "      <td>62.562382</td>\n",
       "    </tr>\n",
       "    <tr>\n",
       "      <th>3</th>\n",
       "      <td>47.475640</td>\n",
       "      <td>71.546632</td>\n",
       "    </tr>\n",
       "    <tr>\n",
       "      <th>4</th>\n",
       "      <td>59.813208</td>\n",
       "      <td>87.230925</td>\n",
       "    </tr>\n",
       "  </tbody>\n",
       "</table>\n",
       "</div>"
      ],
      "text/plain": [
       "           0          1\n",
       "0  32.502345  31.707006\n",
       "1  53.426804  68.777596\n",
       "2  61.530358  62.562382\n",
       "3  47.475640  71.546632\n",
       "4  59.813208  87.230925"
      ]
     },
     "execution_count": 81,
     "metadata": {},
     "output_type": "execute_result"
    }
   ],
   "source": [
    "import pandas as pd\n",
    "col_names = ['scores', 'hours']\n",
    "df = pd.read_csv('https://raw.githubusercontent.com/llSourcell/Intro_to_the_Math_of_intelligence/master/data.csv', header = None)\n",
    "df.head()"
   ]
  },
  {
   "cell_type": "code",
   "execution_count": 9,
   "metadata": {},
   "outputs": [
    {
     "name": "stdout",
     "output_type": "stream",
     "text": [
      "Starting gradient descent at b = 0, m = 0, error = 10.053342197544191\n",
      "Running...\n",
      "After 1000 iterations b = 0.08893651993741346, m = 1.4777440851894448, error = 2.693563420287152\n"
     ]
    }
   ],
   "source": [
    "from numpy import *\n",
    "\n",
    "def compute_error_for_line_given_points(b, m, points):\n",
    "    totalError = 0\n",
    "    for i in range(0, len(points)):\n",
    "        x = points[i, 0]\n",
    "        y = points[i, 1]\n",
    "        totalError += (y - (m*x + b)) ** 2\n",
    "        return totalError / float(len(points))\n",
    "\n",
    "def step_gradient(b_current, m_current, points, learningRate):\n",
    "    # gradient descent\n",
    "    b_gradient = 0\n",
    "    m_gradient = 0\n",
    "    N = float(len(points))\n",
    "    for i in range(0, len(points)):\n",
    "        x = points[i, 0]\n",
    "        y = points[i, 1]\n",
    "        b_gradient += -(2/N) * (y - ((m_current * x) + b_current))\n",
    "        m_gradient += -(2/N) * x * (y - ((m_current * x) + b_current))\n",
    "    new_b = b_current - (learningRate * b_gradient)\n",
    "    new_m = m_current - (learningRate * m_gradient)\n",
    "    return [new_b, new_m]\n",
    "        \n",
    "def gradient_descent_runner(points, starting_b, starting_m, learning_rate, num_iterations):\n",
    "    b = starting_b\n",
    "    m = starting_m\n",
    "    \n",
    "    for i in range(num_iterations):\n",
    "        b, m = step_gradient(b, m, array(points), learning_rate)\n",
    "    return [b,m]\n",
    "\n",
    "def run():\n",
    "    points = genfromtxt('data.csv', delimiter = ',')\n",
    "    #hyperparameters\n",
    "    learning_rate = 0.0001\n",
    "    # y = mx + b\n",
    "    initial_b = 0 # y-intercept\n",
    "    initial_m = 0 # slope of the equation\n",
    "    num_iterations = 1000\n",
    "    print (\"Starting gradient descent at b = {0}, m = {1}, error = {2}\".format(initial_b, initial_m, compute_error_for_line_given_points(initial_b, initial_m, points)))\n",
    "    print (\"Running...\")\n",
    "    [b, m] = gradient_descent_runner(points, initial_b, initial_m, learning_rate, num_iterations)\n",
    "    print (\"After {0} iterations b = {1}, m = {2}, error = {3}\".format(num_iterations, b, m, compute_error_for_line_given_points(b, m, points)))\n",
    "    \n",
    "if __name__ == '__main__':\n",
    "    run()"
   ]
  },
  {
   "cell_type": "code",
   "execution_count": 60,
   "metadata": {},
   "outputs": [
    {
     "data": {
      "text/plain": [
       "array([ 32.50234527,  53.42680403,  61.53035803,  47.47563963,\n",
       "        59.81320787,  55.14218841,  52.21179669,  39.29956669,\n",
       "        48.10504169,  52.55001444,  45.41973014,  54.35163488,\n",
       "        44.1640495 ,  58.16847072,  56.72720806,  48.95588857,\n",
       "        44.68719623,  60.29732685,  45.61864377,  38.81681754,\n",
       "        66.18981661,  65.41605175,  47.48120861,  41.57564262,\n",
       "        51.84518691,  59.37082201,  57.31000344,  63.61556125,\n",
       "        46.73761941,  50.55676015,  52.22399609,  35.56783005,\n",
       "        42.43647694,  58.16454011,  57.50444762,  45.44053073,\n",
       "        61.89622268,  33.09383174,  36.43600951,  37.67565486,\n",
       "        44.55560838,  43.31828263,  50.07314563,  43.87061265,\n",
       "        62.99748075,  32.66904376,  40.16689901,  53.57507753,\n",
       "        33.86421497,  64.70713867,  38.11982403,  44.50253806,\n",
       "        40.59953838,  41.72067636,  51.08863468,  55.0780959 ,\n",
       "        41.37772653,  62.49469743,  49.20388754,  41.10268519,\n",
       "        41.18201611,  50.18638949,  52.37844622,  50.13548549,\n",
       "        33.64470601,  39.55790122,  56.13038882,  57.36205213,\n",
       "        60.26921439,  35.67809389,  31.588117  ,  53.66093226,\n",
       "        46.68222865,  43.10782022,  70.34607562,  44.49285588,\n",
       "        57.5045333 ,  36.93007661,  55.80573336,  38.95476907,\n",
       "        56.9012147 ,  56.86890066,  34.3331247 ,  59.04974121,\n",
       "        57.78822399,  54.28232871,  51.0887199 ,  50.28283635,\n",
       "        44.21174175,  38.00548801,  32.94047994,  53.69163957,\n",
       "        68.76573427,  46.2309665 ,  68.31936082,  50.03017434,\n",
       "        49.23976534,  50.03957594,  48.14985889,  25.12848465])"
      ]
     },
     "execution_count": 60,
     "metadata": {},
     "output_type": "execute_result"
    }
   ],
   "source": [
    "import numpy as np\n",
    "X = np.array(df[0])\n",
    "y = np.array(df[1])\n",
    "\n",
    "X # Cycling distance"
   ]
  },
  {
   "cell_type": "code",
   "execution_count": 61,
   "metadata": {},
   "outputs": [
    {
     "data": {
      "text/plain": [
       "array([  31.70700585,   68.77759598,   62.5623823 ,   71.54663223,\n",
       "         87.23092513,   78.21151827,   79.64197305,   59.17148932,\n",
       "         75.3312423 ,   71.30087989,   55.16567715,   82.47884676,\n",
       "         62.00892325,   75.39287043,   81.43619216,   60.72360244,\n",
       "         82.89250373,   97.37989686,   48.84715332,   56.87721319,\n",
       "         83.87856466,  118.5912173 ,   57.25181946,   51.39174408,\n",
       "         75.38065167,   74.76556403,   95.45505292,   95.22936602,\n",
       "         79.05240617,   83.43207142,   63.35879032,   41.4128853 ,\n",
       "         76.61734128,   96.76956643,   74.08413012,   66.58814441,\n",
       "         77.76848242,   50.71958891,   62.12457082,   60.81024665,\n",
       "         52.68298337,   58.56982472,   82.90598149,   61.4247098 ,\n",
       "        115.2441528 ,   45.57058882,   54.0840548 ,   87.99445276,\n",
       "         52.72549438,   93.57611869,   80.16627545,   65.10171157,\n",
       "         65.56230126,   65.28088692,   73.43464155,   71.13972786,\n",
       "         79.10282968,   86.52053844,   84.74269781,   59.35885025,\n",
       "         61.68403752,   69.84760416,   86.09829121,   59.10883927,\n",
       "         69.89968164,   44.86249071,   85.49806778,   95.53668685,\n",
       "         70.25193442,   52.72173496,   50.39267014,   63.64239878,\n",
       "         72.24725107,   57.81251298,  104.25710159,   86.64202032,\n",
       "         91.486778  ,   55.23166089,   79.55043668,   44.84712424,\n",
       "         80.20752314,   83.14274979,   55.72348926,   77.63418251,\n",
       "         99.05141484,   79.12064627,   69.58889785,   69.51050331,\n",
       "         73.68756432,   61.36690454,   67.17065577,   85.66820315,\n",
       "        114.85387123,   90.12357207,   97.91982104,   81.53699078,\n",
       "         72.11183247,   85.23200734,   66.22495789,   53.45439421])"
      ]
     },
     "execution_count": 61,
     "metadata": {},
     "output_type": "execute_result"
    }
   ],
   "source": [
    "y # Burned Calories"
   ]
  },
  {
   "cell_type": "code",
   "execution_count": 62,
   "metadata": {},
   "outputs": [
    {
     "data": {
      "text/plain": [
       "<matplotlib.axes._subplots.AxesSubplot at 0x7fe3eb6e8e80>"
      ]
     },
     "execution_count": 62,
     "metadata": {},
     "output_type": "execute_result"
    },
    {
     "data": {
      "image/png": "[encoded data removed]",
      "text/plain": [
       "<matplotlib.figure.Figure at 0x7fe3eb71ae80>"
      ]
     },
     "metadata": {},
     "output_type": "display_data"
    }
   ],
   "source": [
    "import seaborn as sns\n",
    "import matplotlib.pyplot as plt\n",
    "%matplotlib inline\n",
    "plt.figure(figsize = (15, 10))\n",
    "plt.xlabel('Cycling distance')\n",
    "plt.ylabel('Burned Calories')\n",
    "sns.regplot(x = X, y = y)"
   ]
  },
  {
   "cell_type": "code",
   "execution_count": 79,
   "metadata": {},
   "outputs": [
    {
     "name": "stdout",
     "output_type": "stream",
     "text": [
      "Y-intercept 7.99102098227\n",
      "Slope 1.32243102276\n"
     ]
    }
   ],
   "source": [
    "from sklearn.linear_model import LinearRegression\n",
    "X = X.reshape(-1, 1)\n",
    "y = y.reshape(-1, 1)\n",
    "linreg = LinearRegression()\n",
    "linreg.fit(X, y)\n",
    "print (\"Y-intercept\", linreg.intercept_[0])\n",
    "print (\"Slope\", linreg.coef_[0][0])"
   ]
  },
  {
   "cell_type": "code",
   "execution_count": 80,
   "metadata": {},
   "outputs": [
    {
     "name": "stdout",
     "output_type": "stream",
     "text": [
      "12.8639742294\n"
     ]
    }
   ],
   "source": [
    "from sklearn.linear_model import LinearRegression\n",
    "from sklearn import metrics\n",
    "import numpy as np\n",
    "from sklearn.cross_validation import train_test_split\n",
    "X_train, X_test, y_train, y_test = train_test_split(X, y, random_state = 1)\n",
    "linreg = LinearRegression()\n",
    "linreg.fit(X_train, y_train)\n",
    "y_pred = linreg.predict(X_test)\n",
    "\n",
    "print (np.sqrt(metrics.mean_squared_error(y_test, y_pred))) # RMSE"
   ]
  }
 ],
 "metadata": {
  "kernelspec": {
   "display_name": "Python 3",
   "language": "python",
   "name": "python3"
  },
  "language_info": {
   "codemirror_mode": {
    "name": "ipython",
    "version": 3
   },
   "file_extension": ".py",
   "mimetype": "text/x-python",
   "name": "python",
   "nbconvert_exporter": "python",
   "pygments_lexer": "ipython3",
   "version": "3.6.1"
  }
 },
 "nbformat": 4,
 "nbformat_minor": 2
}
