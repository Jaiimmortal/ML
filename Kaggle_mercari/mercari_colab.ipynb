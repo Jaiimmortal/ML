{
  "nbformat": 4,
  "nbformat_minor": 0,
  "metadata": {
    "colab": {
      "name": "mercari-colab.ipynb",
      "version": "0.3.2",
      "views": {},
      "default_view": {},
      "provenance": []
    },
    "kernelspec": {
      "name": "python3",
      "display_name": "Python 3"
    },
    "accelerator": "GPU"
  },
  "cells": [
    {
      "metadata": {
        "id": "5OAMhHzCRjfj",
        "colab_type": "code",
        "colab": {
          "autoexec": {
            "startup": false,
            "wait_interval": 0
          },
          "resources": {
            "http://localhost:8080/nbextensions/google.colab/files.js": {
              "data": "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",
              "ok": true,
              "headers": [
                [
                  "content-type",
                  "application/javascript"
                ]
              ],
              "status": 200,
              "status_text": "OK"
            }
          },
          "base_uri": "https://localhost:8080/",
          "height": 46
        },
        "outputId": "9d9d0a87-e4cf-4489-f41b-ecf70a9cad75",
        "executionInfo": {
          "status": "ok",
          "timestamp": 1526278449130,
          "user_tz": -330,
          "elapsed": 33269,
          "user": {
            "displayName": "Jaivarsan Bala",
            "photoUrl": "//lh3.googleusercontent.com/-hQXwK0iWA2M/AAAAAAAAAAI/AAAAAAAAABU/EG08V-sCqIs/s50-c-k-no/photo.jpg",
            "userId": "103615677817218571257"
          }
        }
      },
      "cell_type": "code",
      "source": [
        "from google.colab import files\n",
        "uploaded = files.upload()"
      ],
      "execution_count": 1,
      "outputs": [
        {
          "output_type": "display_data",
          "data": {
            "text/html": [
              "\n",
              "     <input type=\"file\" id=\"files-acbf8431-c642-459e-b46c-c29f04ab466a\" name=\"files[]\" multiple disabled />\n",
              "     <output id=\"result-acbf8431-c642-459e-b46c-c29f04ab466a\">\n",
              "      Upload widget is only available when the cell has been executed in the\n",
              "      current browser session. Please rerun this cell to enable.\n",
              "      </output>\n",
              "      <script src=\"/nbextensions/google.colab/files.js\"></script> "
            ],
            "text/plain": [
              "<IPython.core.display.HTML object>"
            ]
          },
          "metadata": {
            "tags": []
          }
        }
      ]
    },
    {
      "metadata": {
        "id": "TKSl60epSbmv",
        "colab_type": "code",
        "colab": {
          "autoexec": {
            "startup": false,
            "wait_interval": 0
          },
          "base_uri": "https://localhost:8080/",
          "height": 228
        },
        "outputId": "5bc2aaf8-34af-414f-de9f-062e1cf948b3",
        "executionInfo": {
          "status": "ok",
          "timestamp": 1526278693648,
          "user_tz": -330,
          "elapsed": 3358,
          "user": {
            "displayName": "Jaivarsan Bala",
            "photoUrl": "//lh3.googleusercontent.com/-hQXwK0iWA2M/AAAAAAAAAAI/AAAAAAAAABU/EG08V-sCqIs/s50-c-k-no/photo.jpg",
            "userId": "103615677817218571257"
          }
        }
      },
      "cell_type": "code",
      "source": [
        "# getting the train dataset\n",
        "!wget --header=\"Host: storage.googleapis.com\" --header=\"User-Agent: Mozilla/5.0 (X11; Linux x86_64) AppleWebKit/537.36 (KHTML, like Gecko) Chrome/66.0.3359.170 Safari/537.36\" --header=\"Accept: text/html,application/xhtml+xml,application/xml;q=0.9,image/webp,image/apng,*/*;q=0.8\" --header=\"Accept-Language: en-GB,en-US;q=0.9,en;q=0.8\" \"https://storage.googleapis.com/kaggle-competitions-data/kaggle/7559/train.tsv.7z?GoogleAccessId=web-data@kaggle-161607.iam.gserviceaccount.com&Expires=1526537843&Signature=jdJ1Izb7OM1luSTBqcG%2B%2FLXmcbUmvrAZrloCwnXuz8v4A4lXuVODq5yQHc99xFwRbhmRYV1YrfgpuOpR72eiOgso9OVo8jneThexMwhEZYSFY%2BKwHn%2Fgxp48Mr1koBlX%2BHbxAzFE4pkc936bvQxXcci9CHrnTKpuCS76z0CO2mmJpPY6QEkaRu%2FKtKXdRc9Pt3oNjcXGgrqERT83hU58dLVzZWEXEnzjajqRS8%2BrfGu1w8BV%2FHjj45tA3uxSkYo%2Bf4voU4lQGW%2BfRJ1rlOGb1w8Wc6jN%2BFEw13TKyuB9oGVQUSbOL15hVmRfxwolqUWlWkp8qQyWKSJIYUCepntBIQ%3D%3D\" -O \"train.tsv.7z\" -c"
      ],
      "execution_count": 3,
      "outputs": [
        {
          "output_type": "stream",
          "text": [
            "--2018-05-14 06:18:11--  https://storage.googleapis.com/kaggle-competitions-data/kaggle/7559/train.tsv.7z?GoogleAccessId=web-data@kaggle-161607.iam.gserviceaccount.com&Expires=1526537843&Signature=jdJ1Izb7OM1luSTBqcG%2B%2FLXmcbUmvrAZrloCwnXuz8v4A4lXuVODq5yQHc99xFwRbhmRYV1YrfgpuOpR72eiOgso9OVo8jneThexMwhEZYSFY%2BKwHn%2Fgxp48Mr1koBlX%2BHbxAzFE4pkc936bvQxXcci9CHrnTKpuCS76z0CO2mmJpPY6QEkaRu%2FKtKXdRc9Pt3oNjcXGgrqERT83hU58dLVzZWEXEnzjajqRS8%2BrfGu1w8BV%2FHjj45tA3uxSkYo%2Bf4voU4lQGW%2BfRJ1rlOGb1w8Wc6jN%2BFEw13TKyuB9oGVQUSbOL15hVmRfxwolqUWlWkp8qQyWKSJIYUCepntBIQ%3D%3D\r\n",
            "Resolving storage.googleapis.com (storage.googleapis.com)... 173.194.76.128, 2a00:1450:400c:c07::80\r\n",
            "Connecting to storage.googleapis.com (storage.googleapis.com)|173.194.76.128|:443... connected.\n",
            "HTTP request sent, awaiting response... 200 OK\n",
            "Length: 77912192 (74M) [application/x-7z-compressed]\n",
            "Saving to: ‘train.tsv.7z’\n",
            "\n",
            "train.tsv.7z        100%[===================>]  74.30M  98.9MB/s    in 0.8s    \n",
            "\n",
            "2018-05-14 06:18:13 (98.9 MB/s) - ‘train.tsv.7z’ saved [77912192/77912192]\n",
            "\n"
          ],
          "name": "stdout"
        }
      ]
    },
    {
      "metadata": {
        "id": "J83hk6WlTK6O",
        "colab_type": "code",
        "colab": {
          "autoexec": {
            "startup": false,
            "wait_interval": 0
          },
          "base_uri": "https://localhost:8080/",
          "height": 228
        },
        "outputId": "d14dde4c-f247-4983-c1e8-ad14f5268e3d",
        "executionInfo": {
          "status": "ok",
          "timestamp": 1526278744917,
          "user_tz": -330,
          "elapsed": 2813,
          "user": {
            "displayName": "Jaivarsan Bala",
            "photoUrl": "//lh3.googleusercontent.com/-hQXwK0iWA2M/AAAAAAAAAAI/AAAAAAAAABU/EG08V-sCqIs/s50-c-k-no/photo.jpg",
            "userId": "103615677817218571257"
          }
        }
      },
      "cell_type": "code",
      "source": [
        "# getting the test dataset\n",
        "!wget --header=\"Host: storage.googleapis.com\" --header=\"User-Agent: Mozilla/5.0 (X11; Linux x86_64) AppleWebKit/537.36 (KHTML, like Gecko) Chrome/66.0.3359.170 Safari/537.36\" --header=\"Accept: text/html,application/xhtml+xml,application/xml;q=0.9,image/webp,image/apng,*/*;q=0.8\" --header=\"Accept-Language: en-GB,en-US;q=0.9,en;q=0.8\" \"https://storage.googleapis.com/kaggle-competitions-data/kaggle/7559/test.tsv.7z?GoogleAccessId=web-data@kaggle-161607.iam.gserviceaccount.com&Expires=1526537919&Signature=o%2B6rf2QCogiri8jiKBYrkKFLqdPIVzC%2Ff4bsTp95QS52SnnrQcStiFRLhrTbUkFztqdFgdwA5ImFsOKNJNu6B2%2FQjb1jGysl0c2sCEXIvKkeFO%2BdwrWpb0%2BLW8E%2F5ZpbqO2Uf3M7L8q7O97vV6PszKSR1cnGK%2FOTqolSdrQaTuAtTZ9iXzRMbO9DUGa0qbd4P1dlZ6MvHfeHR8pIS40BQxT8eTwb0eYMTYsoa8lGEJ%2BTuw5HfTbLh2uS2Od8sTEgVDqQw6zVng7ezIqBxkJn7uoRy7L5zCAPihduLp1AUUoPjmYcCn2kFGkNRtQHAChrFMmUA6Chr%2BhMZ7xOhdLWCQ%3D%3D\" -O \"test.tsv.7z\" -c"
      ],
      "execution_count": 5,
      "outputs": [
        {
          "output_type": "stream",
          "text": [
            "--2018-05-14 06:19:03--  https://storage.googleapis.com/kaggle-competitions-data/kaggle/7559/test.tsv.7z?GoogleAccessId=web-data@kaggle-161607.iam.gserviceaccount.com&Expires=1526537919&Signature=o%2B6rf2QCogiri8jiKBYrkKFLqdPIVzC%2Ff4bsTp95QS52SnnrQcStiFRLhrTbUkFztqdFgdwA5ImFsOKNJNu6B2%2FQjb1jGysl0c2sCEXIvKkeFO%2BdwrWpb0%2BLW8E%2F5ZpbqO2Uf3M7L8q7O97vV6PszKSR1cnGK%2FOTqolSdrQaTuAtTZ9iXzRMbO9DUGa0qbd4P1dlZ6MvHfeHR8pIS40BQxT8eTwb0eYMTYsoa8lGEJ%2BTuw5HfTbLh2uS2Od8sTEgVDqQw6zVng7ezIqBxkJn7uoRy7L5zCAPihduLp1AUUoPjmYcCn2kFGkNRtQHAChrFMmUA6Chr%2BhMZ7xOhdLWCQ%3D%3D\r\n",
            "Resolving storage.googleapis.com (storage.googleapis.com)... 74.125.133.128, 2a00:1450:400c:c07::80\r\n",
            "Connecting to storage.googleapis.com (storage.googleapis.com)|74.125.133.128|:443... connected.\n",
            "HTTP request sent, awaiting response... 200 OK\n",
            "Length: 35617013 (34M) [application/x-7z-compressed]\n",
            "Saving to: ‘test.tsv.7z’\n",
            "\n",
            "test.tsv.7z         100%[===================>]  33.97M  74.2MB/s    in 0.5s    \n",
            "\n",
            "2018-05-14 06:19:04 (74.2 MB/s) - ‘test.tsv.7z’ saved [35617013/35617013]\n",
            "\n"
          ],
          "name": "stdout"
        }
      ]
    },
    {
      "metadata": {
        "id": "4490dli7TXgx",
        "colab_type": "code",
        "colab": {
          "autoexec": {
            "startup": false,
            "wait_interval": 0
          },
          "base_uri": "https://localhost:8080/",
          "height": 434
        },
        "outputId": "49f451c9-fa66-478b-f94c-e98fdb0e1c2e",
        "executionInfo": {
          "status": "ok",
          "timestamp": 1526278859119,
          "user_tz": -330,
          "elapsed": 4766,
          "user": {
            "displayName": "Jaivarsan Bala",
            "photoUrl": "//lh3.googleusercontent.com/-hQXwK0iWA2M/AAAAAAAAAAI/AAAAAAAAABU/EG08V-sCqIs/s50-c-k-no/photo.jpg",
            "userId": "103615677817218571257"
          }
        }
      },
      "cell_type": "code",
      "source": [
        "!apt-get install p7zip-full"
      ],
      "execution_count": 6,
      "outputs": [
        {
          "output_type": "stream",
          "text": [
            "Reading package lists... Done\n",
            "Building dependency tree       \n",
            "Reading state information... Done\n",
            "The following additional packages will be installed:\n",
            "  p7zip\n",
            "Suggested packages:\n",
            "  p7zip-rar\n",
            "The following NEW packages will be installed:\n",
            "  p7zip p7zip-full\n",
            "0 upgraded, 2 newly installed, 0 to remove and 0 not upgraded.\n",
            "Need to get 1,467 kB of archives.\n",
            "After this operation, 5,415 kB of additional disk space will be used.\n",
            "Get:1 http://archive.ubuntu.com/ubuntu artful/universe amd64 p7zip amd64 16.02+dfsg-4 [348 kB]\n",
            "Get:2 http://archive.ubuntu.com/ubuntu artful/universe amd64 p7zip-full amd64 16.02+dfsg-4 [1,119 kB]\n",
            "Fetched 1,467 kB in 0s (12.7 MB/s)\n",
            "Selecting previously unselected package p7zip.\n",
            "(Reading database ... 18298 files and directories currently installed.)\n",
            "Preparing to unpack .../p7zip_16.02+dfsg-4_amd64.deb ...\n",
            "Unpacking p7zip (16.02+dfsg-4) ...\n",
            "Selecting previously unselected package p7zip-full.\n",
            "Preparing to unpack .../p7zip-full_16.02+dfsg-4_amd64.deb ...\n",
            "Unpacking p7zip-full (16.02+dfsg-4) ...\n",
            "Setting up p7zip (16.02+dfsg-4) ...\n",
            "Setting up p7zip-full (16.02+dfsg-4) ...\n"
          ],
          "name": "stdout"
        }
      ]
    },
    {
      "metadata": {
        "id": "0bWtzllHTzsb",
        "colab_type": "code",
        "colab": {
          "autoexec": {
            "startup": false,
            "wait_interval": 0
          },
          "base_uri": "https://localhost:8080/",
          "height": 766
        },
        "outputId": "54147347-8550-485d-e843-bc46b52ce68a",
        "executionInfo": {
          "status": "ok",
          "timestamp": 1526278973196,
          "user_tz": -330,
          "elapsed": 9758,
          "user": {
            "displayName": "Jaivarsan Bala",
            "photoUrl": "//lh3.googleusercontent.com/-hQXwK0iWA2M/AAAAAAAAAAI/AAAAAAAAABU/EG08V-sCqIs/s50-c-k-no/photo.jpg",
            "userId": "103615677817218571257"
          }
        }
      },
      "cell_type": "code",
      "source": [
        "!7z x train.tsv.7z\n",
        "!7z x test.tsv.7z"
      ],
      "execution_count": 7,
      "outputs": [
        {
          "output_type": "stream",
          "text": [
            "\r\n",
            "7-Zip [64] 16.02 : Copyright (c) 1999-2016 Igor Pavlov : 2016-05-21\r\n",
            "p7zip Version 16.02 (locale=en_US.UTF-8,Utf16=on,HugeFiles=on,64 bits,2 CPUs Intel(R) Xeon(R) CPU @ 2.30GHz (306F0),ASM,AES-NI)\r\n",
            "\r\n",
            "Scanning the drive for archives:\r\n",
            "  0M Scan\b\b\b\b\b\b\b\b\b         \b\b\b\b\b\b\b\b\b1 file, 77912192 bytes (75 MiB)\r\n",
            "\r\n",
            "Extracting archive: train.tsv.7z\r\n",
            "--\r\n",
            "Path = train.tsv.7z\r\n",
            "Type = 7z\r\n",
            "Physical Size = 77912192\r\n",
            "Headers Size = 122\r\n",
            "Method = LZMA2:24\r\n",
            "Solid = -\r\n",
            "Blocks = 1\r\n",
            "\n",
            "  0%\b\b\b\b    \b\b\b\b  4% - train.tsv\b\b\b\b\b\b\b\b\b\b\b\b\b\b\b\b                \b\b\b\b\b\b\b\b\b\b\b\b\b\b\b\b  9% - train.tsv\b\b\b\b\b\b\b\b\b\b\b\b\b\b\b\b                \b\b\b\b\b\b\b\b\b\b\b\b\b\b\b\b 14% - train.tsv\b\b\b\b\b\b\b\b\b\b\b\b\b\b\b\b                \b\b\b\b\b\b\b\b\b\b\b\b\b\b\b\b 19% - train.tsv\b\b\b\b\b\b\b\b\b\b\b\b\b\b\b\b                \b\b\b\b\b\b\b\b\b\b\b\b\b\b\b\b 24% - train.tsv\b\b\b\b\b\b\b\b\b\b\b\b\b\b\b\b                \b\b\b\b\b\b\b\b\b\b\b\b\b\b\b\b 29% - train.tsv\b\b\b\b\b\b\b\b\b\b\b\b\b\b\b\b                \b\b\b\b\b\b\b\b\b\b\b\b\b\b\b\b 34% - train.tsv\b\b\b\b\b\b\b\b\b\b\b\b\b\b\b\b                \b\b\b\b\b\b\b\b\b\b\b\b\b\b\b\b 39% - train.tsv\b\b\b\b\b\b\b\b\b\b\b\b\b\b\b\b                \b\b\b\b\b\b\b\b\b\b\b\b\b\b\b\b 43% - train.tsv\b\b\b\b\b\b\b\b\b\b\b\b\b\b\b\b                \b\b\b\b\b\b\b\b\b\b\b\b\b\b\b\b 48% - train.tsv\b\b\b\b\b\b\b\b\b\b\b\b\b\b\b\b                \b\b\b\b\b\b\b\b\b\b\b\b\b\b\b\b 53% - train.tsv\b\b\b\b\b\b\b\b\b\b\b\b\b\b\b\b                \b\b\b\b\b\b\b\b\b\b\b\b\b\b\b\b 57% - train.tsv\b\b\b\b\b\b\b\b\b\b\b\b\b\b\b\b                \b\b\b\b\b\b\b\b\b\b\b\b\b\b\b\b 61% - train.tsv\b\b\b\b\b\b\b\b\b\b\b\b\b\b\b\b                \b\b\b\b\b\b\b\b\b\b\b\b\b\b\b\b 67% - train.tsv\b\b\b\b\b\b\b\b\b\b\b\b\b\b\b\b                \b\b\b\b\b\b\b\b\b\b\b\b\b\b\b\b 72% - train.tsv\b\b\b\b\b\b\b\b\b\b\b\b\b\b\b\b                \b\b\b\b\b\b\b\b\b\b\b\b\b\b\b\b 76% - train.tsv\b\b\b\b\b\b\b\b\b\b\b\b\b\b\b\b                \b\b\b\b\b\b\b\b\b\b\b\b\b\b\b\b 81% - train.tsv\b\b\b\b\b\b\b\b\b\b\b\b\b\b\b\b                \b\b\b\b\b\b\b\b\b\b\b\b\b\b\b\b 86% - train.tsv\b\b\b\b\b\b\b\b\b\b\b\b\b\b\b\b                \b\b\b\b\b\b\b\b\b\b\b\b\b\b\b\b 91% - train.tsv\b\b\b\b\b\b\b\b\b\b\b\b\b\b\b\b                \b\b\b\b\b\b\b\b\b\b\b\b\b\b\b\b 96% - train.tsv\b\b\b\b\b\b\b\b\b\b\b\b\b\b\b\b                \b\b\b\b\b\b\b\b\b\b\b\b\b\b\b\bEverything is Ok\n",
            "\n",
            "Size:       337809843\n",
            "Compressed: 77912192\n",
            "\n",
            "7-Zip [64] 16.02 : Copyright (c) 1999-2016 Igor Pavlov : 2016-05-21\n",
            "p7zip Version 16.02 (locale=en_US.UTF-8,Utf16=on,HugeFiles=on,64 bits,2 CPUs Intel(R) Xeon(R) CPU @ 2.30GHz (306F0),ASM,AES-NI)\n",
            "\n",
            "Scanning the drive for archives:\n",
            "  0M Scan\b\b\b\b\b\b\b\b\b         \b\b\b\b\b\b\b\b\b1 file, 35617013 bytes (34 MiB)\n",
            "\n",
            "Extracting archive: test.tsv.7z\n",
            "--\n",
            "Path = test.tsv.7z\n",
            "Type = 7z\n",
            "Physical Size = 35617013\n",
            "Headers Size = 122\n",
            "Method = LZMA2:24\n",
            "Solid = -\n",
            "Blocks = 1\n",
            "\n",
            "  0%\b\b\b\b    \b\b\b\b 10% - test.tsv\b\b\b\b\b\b\b\b\b\b\b\b\b\b\b               \b\b\b\b\b\b\b\b\b\b\b\b\b\b\b 19% - test.tsv\b\b\b\b\b\b\b\b\b\b\b\b\b\b\b               \b\b\b\b\b\b\b\b\b\b\b\b\b\b\b 29% - test.tsv\b\b\b\b\b\b\b\b\b\b\b\b\b\b\b               \b\b\b\b\b\b\b\b\b\b\b\b\b\b\b 38% - test.tsv\b\b\b\b\b\b\b\b\b\b\b\b\b\b\b               \b\b\b\b\b\b\b\b\b\b\b\b\b\b\b 46% - test.tsv\b\b\b\b\b\b\b\b\b\b\b\b\b\b\b               \b\b\b\b\b\b\b\b\b\b\b\b\b\b\b 57% - test.tsv\b\b\b\b\b\b\b\b\b\b\b\b\b\b\b               \b\b\b\b\b\b\b\b\b\b\b\b\b\b\b 67% - test.tsv\b\b\b\b\b\b\b\b\b\b\b\b\b\b\b               \b\b\b\b\b\b\b\b\b\b\b\b\b\b\b 76% - test.tsv\b\b\b\b\b\b\b\b\b\b\b\b\b\b\b               \b\b\b\b\b\b\b\b\b\b\b\b\b\b\b 88% - test.tsv\b\b\b\b\b\b\b\b\b\b\b\b\b\b\b               \b\b\b\b\b\b\b\b\b\b\b\b\b\b\b 97% - test.tsv\b\b\b\b\b\b\b\b\b\b\b\b\b\b\b               \b\b\b\b\b\b\b\b\b\b\b\b\b\b\bEverything is Ok\n",
            "\n",
            "Size:       154222160\n",
            "Compressed: 35617013\n"
          ],
          "name": "stdout"
        }
      ]
    },
    {
      "metadata": {
        "id": "MHq7sEshSVo4",
        "colab_type": "code",
        "colab": {
          "autoexec": {
            "startup": false,
            "wait_interval": 0
          },
          "base_uri": "https://localhost:8080/",
          "height": 34
        },
        "outputId": "c067b1c1-2890-4b6c-bdc7-a5f3a3d3bc5a",
        "executionInfo": {
          "status": "ok",
          "timestamp": 1526278978762,
          "user_tz": -330,
          "elapsed": 1961,
          "user": {
            "displayName": "Jaivarsan Bala",
            "photoUrl": "//lh3.googleusercontent.com/-hQXwK0iWA2M/AAAAAAAAAAI/AAAAAAAAABU/EG08V-sCqIs/s50-c-k-no/photo.jpg",
            "userId": "103615677817218571257"
          }
        }
      },
      "cell_type": "code",
      "source": [
        "!ls"
      ],
      "execution_count": 8,
      "outputs": [
        {
          "output_type": "stream",
          "text": [
            "datalab  test.tsv  test.tsv.7z\ttrain.tsv  train.tsv.7z\r\n"
          ],
          "name": "stdout"
        }
      ]
    },
    {
      "metadata": {
        "id": "Jmxojrh3URB2",
        "colab_type": "code",
        "colab": {
          "autoexec": {
            "startup": false,
            "wait_interval": 0
          },
          "base_uri": "https://localhost:8080/",
          "height": 34
        },
        "outputId": "f288a968-0284-4f07-b8ee-728ec3624196",
        "executionInfo": {
          "status": "ok",
          "timestamp": 1526278997897,
          "user_tz": -330,
          "elapsed": 7438,
          "user": {
            "displayName": "Jaivarsan Bala",
            "photoUrl": "//lh3.googleusercontent.com/-hQXwK0iWA2M/AAAAAAAAAAI/AAAAAAAAABU/EG08V-sCqIs/s50-c-k-no/photo.jpg",
            "userId": "103615677817218571257"
          }
        }
      },
      "cell_type": "code",
      "source": [
        "import keras"
      ],
      "execution_count": 9,
      "outputs": [
        {
          "output_type": "stream",
          "text": [
            "Using TensorFlow backend.\n"
          ],
          "name": "stderr"
        }
      ]
    },
    {
      "metadata": {
        "id": "TjAZOJHOUVoS",
        "colab_type": "code",
        "colab": {
          "autoexec": {
            "startup": false,
            "wait_interval": 0
          }
        }
      },
      "cell_type": "code",
      "source": [
        "import pandas as pd\n",
        "import numpy as np\n",
        "import math\n",
        "\n",
        "from sklearn.model_selection import KFold\n",
        "from sklearn.linear_model import Ridge\n",
        "from sklearn.pipeline import FeatureUnion\n",
        "from sklearn.feature_extraction.text import CountVectorizer, TfidfVectorizer\n",
        "from sklearn.metrics import mean_squared_log_error\n",
        "from sklearn.preprocessing import LabelEncoder, MinMaxScaler, StandardScaler\n",
        "from sklearn.model_selection import train_test_split"
      ],
      "execution_count": 0,
      "outputs": []
    },
    {
      "metadata": {
        "id": "bZ2ZYAdWUbPZ",
        "colab_type": "code",
        "colab": {
          "autoexec": {
            "startup": false,
            "wait_interval": 0
          }
        }
      },
      "cell_type": "code",
      "source": [
        "train = pd.read_table('train.tsv', delimiter = '\\t')\n",
        "test = pd.read_csv('test.tsv', delimiter = '\\t')"
      ],
      "execution_count": 0,
      "outputs": []
    },
    {
      "metadata": {
        "id": "jVDoAz2qUeH9",
        "colab_type": "code",
        "colab": {
          "autoexec": {
            "startup": false,
            "wait_interval": 0
          },
          "base_uri": "https://localhost:8080/",
          "height": 206
        },
        "outputId": "32953e80-5902-4b7c-a10a-c83b98fbc885",
        "executionInfo": {
          "status": "ok",
          "timestamp": 1526279050456,
          "user_tz": -330,
          "elapsed": 1018,
          "user": {
            "displayName": "Jaivarsan Bala",
            "photoUrl": "//lh3.googleusercontent.com/-hQXwK0iWA2M/AAAAAAAAAAI/AAAAAAAAABU/EG08V-sCqIs/s50-c-k-no/photo.jpg",
            "userId": "103615677817218571257"
          }
        }
      },
      "cell_type": "code",
      "source": [
        "train.head()"
      ],
      "execution_count": 12,
      "outputs": [
        {
          "output_type": "execute_result",
          "data": {
            "text/html": [
              "<div>\n",
              "<style scoped>\n",
              "    .dataframe tbody tr th:only-of-type {\n",
              "        vertical-align: middle;\n",
              "    }\n",
              "\n",
              "    .dataframe tbody tr th {\n",
              "        vertical-align: top;\n",
              "    }\n",
              "\n",
              "    .dataframe thead th {\n",
              "        text-align: right;\n",
              "    }\n",
              "</style>\n",
              "<table border=\"1\" class=\"dataframe\">\n",
              "  <thead>\n",
              "    <tr style=\"text-align: right;\">\n",
              "      <th></th>\n",
              "      <th>train_id</th>\n",
              "      <th>name</th>\n",
              "      <th>item_condition_id</th>\n",
              "      <th>category_name</th>\n",
              "      <th>brand_name</th>\n",
              "      <th>price</th>\n",
              "      <th>shipping</th>\n",
              "      <th>item_description</th>\n",
              "    </tr>\n",
              "  </thead>\n",
              "  <tbody>\n",
              "    <tr>\n",
              "      <th>0</th>\n",
              "      <td>0</td>\n",
              "      <td>MLB Cincinnati Reds T Shirt Size XL</td>\n",
              "      <td>3</td>\n",
              "      <td>Men/Tops/T-shirts</td>\n",
              "      <td>NaN</td>\n",
              "      <td>10.0</td>\n",
              "      <td>1</td>\n",
              "      <td>No description yet</td>\n",
              "    </tr>\n",
              "    <tr>\n",
              "      <th>1</th>\n",
              "      <td>1</td>\n",
              "      <td>Razer BlackWidow Chroma Keyboard</td>\n",
              "      <td>3</td>\n",
              "      <td>Electronics/Computers &amp; Tablets/Components &amp; P...</td>\n",
              "      <td>Razer</td>\n",
              "      <td>52.0</td>\n",
              "      <td>0</td>\n",
              "      <td>This keyboard is in great condition and works ...</td>\n",
              "    </tr>\n",
              "    <tr>\n",
              "      <th>2</th>\n",
              "      <td>2</td>\n",
              "      <td>AVA-VIV Blouse</td>\n",
              "      <td>1</td>\n",
              "      <td>Women/Tops &amp; Blouses/Blouse</td>\n",
              "      <td>Target</td>\n",
              "      <td>10.0</td>\n",
              "      <td>1</td>\n",
              "      <td>Adorable top with a hint of lace and a key hol...</td>\n",
              "    </tr>\n",
              "    <tr>\n",
              "      <th>3</th>\n",
              "      <td>3</td>\n",
              "      <td>Leather Horse Statues</td>\n",
              "      <td>1</td>\n",
              "      <td>Home/Home Décor/Home Décor Accents</td>\n",
              "      <td>NaN</td>\n",
              "      <td>35.0</td>\n",
              "      <td>1</td>\n",
              "      <td>New with tags. Leather horses. Retail for [rm]...</td>\n",
              "    </tr>\n",
              "    <tr>\n",
              "      <th>4</th>\n",
              "      <td>4</td>\n",
              "      <td>24K GOLD plated rose</td>\n",
              "      <td>1</td>\n",
              "      <td>Women/Jewelry/Necklaces</td>\n",
              "      <td>NaN</td>\n",
              "      <td>44.0</td>\n",
              "      <td>0</td>\n",
              "      <td>Complete with certificate of authenticity</td>\n",
              "    </tr>\n",
              "  </tbody>\n",
              "</table>\n",
              "</div>"
            ],
            "text/plain": [
              "   train_id                                 name  item_condition_id  \\\n",
              "0         0  MLB Cincinnati Reds T Shirt Size XL                  3   \n",
              "1         1     Razer BlackWidow Chroma Keyboard                  3   \n",
              "2         2                       AVA-VIV Blouse                  1   \n",
              "3         3                Leather Horse Statues                  1   \n",
              "4         4                 24K GOLD plated rose                  1   \n",
              "\n",
              "                                       category_name brand_name  price  \\\n",
              "0                                  Men/Tops/T-shirts        NaN   10.0   \n",
              "1  Electronics/Computers & Tablets/Components & P...      Razer   52.0   \n",
              "2                        Women/Tops & Blouses/Blouse     Target   10.0   \n",
              "3                 Home/Home Décor/Home Décor Accents        NaN   35.0   \n",
              "4                            Women/Jewelry/Necklaces        NaN   44.0   \n",
              "\n",
              "   shipping                                   item_description  \n",
              "0         1                                 No description yet  \n",
              "1         0  This keyboard is in great condition and works ...  \n",
              "2         1  Adorable top with a hint of lace and a key hol...  \n",
              "3         1  New with tags. Leather horses. Retail for [rm]...  \n",
              "4         0          Complete with certificate of authenticity  "
            ]
          },
          "metadata": {
            "tags": []
          },
          "execution_count": 12
        }
      ]
    },
    {
      "metadata": {
        "id": "2dI3c45wUjxG",
        "colab_type": "code",
        "colab": {
          "autoexec": {
            "startup": false,
            "wait_interval": 0
          },
          "base_uri": "https://localhost:8080/",
          "height": 34
        },
        "outputId": "528a5e14-44ed-4ef3-8665-14ca3817d3ce",
        "executionInfo": {
          "status": "ok",
          "timestamp": 1526279063730,
          "user_tz": -330,
          "elapsed": 993,
          "user": {
            "displayName": "Jaivarsan Bala",
            "photoUrl": "//lh3.googleusercontent.com/-hQXwK0iWA2M/AAAAAAAAAAI/AAAAAAAAABU/EG08V-sCqIs/s50-c-k-no/photo.jpg",
            "userId": "103615677817218571257"
          }
        }
      },
      "cell_type": "code",
      "source": [
        "train.shape, test.shape"
      ],
      "execution_count": 13,
      "outputs": [
        {
          "output_type": "execute_result",
          "data": {
            "text/plain": [
              "((1482535, 8), (693359, 7))"
            ]
          },
          "metadata": {
            "tags": []
          },
          "execution_count": 13
        }
      ]
    },
    {
      "metadata": {
        "id": "-bTpJZ9qUmgd",
        "colab_type": "code",
        "colab": {
          "autoexec": {
            "startup": false,
            "wait_interval": 0
          },
          "base_uri": "https://localhost:8080/",
          "height": 243
        },
        "outputId": "26984693-90b8-49dc-e003-fd3ef8fef453",
        "executionInfo": {
          "status": "ok",
          "timestamp": 1526279076266,
          "user_tz": -330,
          "elapsed": 2324,
          "user": {
            "displayName": "Jaivarsan Bala",
            "photoUrl": "//lh3.googleusercontent.com/-hQXwK0iWA2M/AAAAAAAAAAI/AAAAAAAAABU/EG08V-sCqIs/s50-c-k-no/photo.jpg",
            "userId": "103615677817218571257"
          }
        }
      },
      "cell_type": "code",
      "source": [
        "train.info()"
      ],
      "execution_count": 14,
      "outputs": [
        {
          "output_type": "stream",
          "text": [
            "<class 'pandas.core.frame.DataFrame'>\n",
            "RangeIndex: 1482535 entries, 0 to 1482534\n",
            "Data columns (total 8 columns):\n",
            "train_id             1482535 non-null int64\n",
            "name                 1482535 non-null object\n",
            "item_condition_id    1482535 non-null int64\n",
            "category_name        1476208 non-null object\n",
            "brand_name           849853 non-null object\n",
            "price                1482535 non-null float64\n",
            "shipping             1482535 non-null int64\n",
            "item_description     1482531 non-null object\n",
            "dtypes: float64(1), int64(3), object(4)\n",
            "memory usage: 90.5+ MB\n"
          ],
          "name": "stdout"
        }
      ]
    },
    {
      "metadata": {
        "id": "ot7FU90IUo7G",
        "colab_type": "code",
        "colab": {
          "autoexec": {
            "startup": false,
            "wait_interval": 0
          },
          "base_uri": "https://localhost:8080/",
          "height": 173
        },
        "outputId": "eeef08cb-f118-4439-9a16-0bc6f6e781f0",
        "executionInfo": {
          "status": "ok",
          "timestamp": 1526279085157,
          "user_tz": -330,
          "elapsed": 1407,
          "user": {
            "displayName": "Jaivarsan Bala",
            "photoUrl": "//lh3.googleusercontent.com/-hQXwK0iWA2M/AAAAAAAAAAI/AAAAAAAAABU/EG08V-sCqIs/s50-c-k-no/photo.jpg",
            "userId": "103615677817218571257"
          }
        }
      },
      "cell_type": "code",
      "source": [
        "# trying to find out the missing values\n",
        "train.isnull().sum()"
      ],
      "execution_count": 15,
      "outputs": [
        {
          "output_type": "execute_result",
          "data": {
            "text/plain": [
              "train_id                  0\n",
              "name                      0\n",
              "item_condition_id         0\n",
              "category_name          6327\n",
              "brand_name           632682\n",
              "price                     0\n",
              "shipping                  0\n",
              "item_description          4\n",
              "dtype: int64"
            ]
          },
          "metadata": {
            "tags": []
          },
          "execution_count": 15
        }
      ]
    },
    {
      "metadata": {
        "id": "pBGKWMJ4Urk1",
        "colab_type": "code",
        "colab": {
          "autoexec": {
            "startup": false,
            "wait_interval": 0
          }
        }
      },
      "cell_type": "code",
      "source": [
        "# splitting the category name with '/' and making three new columns out of it\n",
        "\n",
        "def split_cat(text):\n",
        "    try: return text.split(\"/\")\n",
        "    except: return (\"missing\", \"missing\", \"missing\")\n",
        "    \n",
        "train['general_cat'], train['subcat_1'], train['subcat_2'] = zip(*train['category_name'].apply(lambda x: split_cat(x)))\n",
        "test['general_cat'], test['subcat_1'], test['subcat_2'] = zip(*test['category_name'].apply(lambda x: split_cat(x)))\n",
        "\n",
        "train.drop('category_name', axis=1, inplace = True)\n",
        "test.drop('category_name', axis=1, inplace = True)\n",
        "\n",
        "y_train = np.log1p(train['price'])\n",
        "\n",
        "train.brand_name.fillna(value=\"missing\", inplace=True)\n",
        "train.item_description.fillna(value=\"missing\", inplace=True)\n",
        "\n",
        "test.brand_name.fillna(value=\"missing\", inplace=True)\n",
        "test.item_description.fillna(value=\"missing\", inplace=True)"
      ],
      "execution_count": 0,
      "outputs": []
    },
    {
      "metadata": {
        "id": "EWB070ApUtFT",
        "colab_type": "code",
        "colab": {
          "autoexec": {
            "startup": false,
            "wait_interval": 0
          },
          "base_uri": "https://localhost:8080/",
          "height": 206
        },
        "outputId": "b5b104b2-fa32-4907-f414-ab0ea605383e",
        "executionInfo": {
          "status": "ok",
          "timestamp": 1526279113801,
          "user_tz": -330,
          "elapsed": 1005,
          "user": {
            "displayName": "Jaivarsan Bala",
            "photoUrl": "//lh3.googleusercontent.com/-hQXwK0iWA2M/AAAAAAAAAAI/AAAAAAAAABU/EG08V-sCqIs/s50-c-k-no/photo.jpg",
            "userId": "103615677817218571257"
          }
        }
      },
      "cell_type": "code",
      "source": [
        "train.head()"
      ],
      "execution_count": 17,
      "outputs": [
        {
          "output_type": "execute_result",
          "data": {
            "text/html": [
              "<div>\n",
              "<style scoped>\n",
              "    .dataframe tbody tr th:only-of-type {\n",
              "        vertical-align: middle;\n",
              "    }\n",
              "\n",
              "    .dataframe tbody tr th {\n",
              "        vertical-align: top;\n",
              "    }\n",
              "\n",
              "    .dataframe thead th {\n",
              "        text-align: right;\n",
              "    }\n",
              "</style>\n",
              "<table border=\"1\" class=\"dataframe\">\n",
              "  <thead>\n",
              "    <tr style=\"text-align: right;\">\n",
              "      <th></th>\n",
              "      <th>train_id</th>\n",
              "      <th>name</th>\n",
              "      <th>item_condition_id</th>\n",
              "      <th>brand_name</th>\n",
              "      <th>price</th>\n",
              "      <th>shipping</th>\n",
              "      <th>item_description</th>\n",
              "      <th>general_cat</th>\n",
              "      <th>subcat_1</th>\n",
              "      <th>subcat_2</th>\n",
              "    </tr>\n",
              "  </thead>\n",
              "  <tbody>\n",
              "    <tr>\n",
              "      <th>0</th>\n",
              "      <td>0</td>\n",
              "      <td>MLB Cincinnati Reds T Shirt Size XL</td>\n",
              "      <td>3</td>\n",
              "      <td>missing</td>\n",
              "      <td>10.0</td>\n",
              "      <td>1</td>\n",
              "      <td>No description yet</td>\n",
              "      <td>Men</td>\n",
              "      <td>Tops</td>\n",
              "      <td>T-shirts</td>\n",
              "    </tr>\n",
              "    <tr>\n",
              "      <th>1</th>\n",
              "      <td>1</td>\n",
              "      <td>Razer BlackWidow Chroma Keyboard</td>\n",
              "      <td>3</td>\n",
              "      <td>Razer</td>\n",
              "      <td>52.0</td>\n",
              "      <td>0</td>\n",
              "      <td>This keyboard is in great condition and works ...</td>\n",
              "      <td>Electronics</td>\n",
              "      <td>Computers &amp; Tablets</td>\n",
              "      <td>Components &amp; Parts</td>\n",
              "    </tr>\n",
              "    <tr>\n",
              "      <th>2</th>\n",
              "      <td>2</td>\n",
              "      <td>AVA-VIV Blouse</td>\n",
              "      <td>1</td>\n",
              "      <td>Target</td>\n",
              "      <td>10.0</td>\n",
              "      <td>1</td>\n",
              "      <td>Adorable top with a hint of lace and a key hol...</td>\n",
              "      <td>Women</td>\n",
              "      <td>Tops &amp; Blouses</td>\n",
              "      <td>Blouse</td>\n",
              "    </tr>\n",
              "    <tr>\n",
              "      <th>3</th>\n",
              "      <td>3</td>\n",
              "      <td>Leather Horse Statues</td>\n",
              "      <td>1</td>\n",
              "      <td>missing</td>\n",
              "      <td>35.0</td>\n",
              "      <td>1</td>\n",
              "      <td>New with tags. Leather horses. Retail for [rm]...</td>\n",
              "      <td>Home</td>\n",
              "      <td>Home Décor</td>\n",
              "      <td>Home Décor Accents</td>\n",
              "    </tr>\n",
              "    <tr>\n",
              "      <th>4</th>\n",
              "      <td>4</td>\n",
              "      <td>24K GOLD plated rose</td>\n",
              "      <td>1</td>\n",
              "      <td>missing</td>\n",
              "      <td>44.0</td>\n",
              "      <td>0</td>\n",
              "      <td>Complete with certificate of authenticity</td>\n",
              "      <td>Women</td>\n",
              "      <td>Jewelry</td>\n",
              "      <td>Necklaces</td>\n",
              "    </tr>\n",
              "  </tbody>\n",
              "</table>\n",
              "</div>"
            ],
            "text/plain": [
              "   train_id                                 name  item_condition_id  \\\n",
              "0         0  MLB Cincinnati Reds T Shirt Size XL                  3   \n",
              "1         1     Razer BlackWidow Chroma Keyboard                  3   \n",
              "2         2                       AVA-VIV Blouse                  1   \n",
              "3         3                Leather Horse Statues                  1   \n",
              "4         4                 24K GOLD plated rose                  1   \n",
              "\n",
              "  brand_name  price  shipping  \\\n",
              "0    missing   10.0         1   \n",
              "1      Razer   52.0         0   \n",
              "2     Target   10.0         1   \n",
              "3    missing   35.0         1   \n",
              "4    missing   44.0         0   \n",
              "\n",
              "                                    item_description  general_cat  \\\n",
              "0                                 No description yet          Men   \n",
              "1  This keyboard is in great condition and works ...  Electronics   \n",
              "2  Adorable top with a hint of lace and a key hol...        Women   \n",
              "3  New with tags. Leather horses. Retail for [rm]...         Home   \n",
              "4          Complete with certificate of authenticity        Women   \n",
              "\n",
              "              subcat_1            subcat_2  \n",
              "0                 Tops            T-shirts  \n",
              "1  Computers & Tablets  Components & Parts  \n",
              "2       Tops & Blouses              Blouse  \n",
              "3           Home Décor  Home Décor Accents  \n",
              "4              Jewelry           Necklaces  "
            ]
          },
          "metadata": {
            "tags": []
          },
          "execution_count": 17
        }
      ]
    },
    {
      "metadata": {
        "id": "ZSTuzkfmUxeX",
        "colab_type": "code",
        "colab": {
          "autoexec": {
            "startup": false,
            "wait_interval": 0
          },
          "base_uri": "https://localhost:8080/",
          "height": 208
        },
        "outputId": "25b01dad-9771-4c6d-9991-1569a8aaf2a5",
        "executionInfo": {
          "status": "ok",
          "timestamp": 1526279126757,
          "user_tz": -330,
          "elapsed": 1524,
          "user": {
            "displayName": "Jaivarsan Bala",
            "photoUrl": "//lh3.googleusercontent.com/-hQXwK0iWA2M/AAAAAAAAAAI/AAAAAAAAABU/EG08V-sCqIs/s50-c-k-no/photo.jpg",
            "userId": "103615677817218571257"
          }
        }
      },
      "cell_type": "code",
      "source": [
        "train.isnull().sum()"
      ],
      "execution_count": 18,
      "outputs": [
        {
          "output_type": "execute_result",
          "data": {
            "text/plain": [
              "train_id             0\n",
              "name                 0\n",
              "item_condition_id    0\n",
              "brand_name           0\n",
              "price                0\n",
              "shipping             0\n",
              "item_description     0\n",
              "general_cat          0\n",
              "subcat_1             0\n",
              "subcat_2             0\n",
              "dtype: int64"
            ]
          },
          "metadata": {
            "tags": []
          },
          "execution_count": 18
        }
      ]
    },
    {
      "metadata": {
        "id": "bj15oGwOU0gL",
        "colab_type": "code",
        "colab": {
          "autoexec": {
            "startup": false,
            "wait_interval": 0
          },
          "base_uri": "https://localhost:8080/",
          "height": 224
        },
        "outputId": "94a1a41c-1477-4699-bfd0-19419f4642d9",
        "executionInfo": {
          "status": "ok",
          "timestamp": 1526279174409,
          "user_tz": -330,
          "elapsed": 29650,
          "user": {
            "displayName": "Jaivarsan Bala",
            "photoUrl": "//lh3.googleusercontent.com/-hQXwK0iWA2M/AAAAAAAAAAI/AAAAAAAAABU/EG08V-sCqIs/s50-c-k-no/photo.jpg",
            "userId": "103615677817218571257"
          }
        }
      },
      "cell_type": "code",
      "source": [
        "print(\"Handling categorical variables...\")\n",
        "le = LabelEncoder()    \n",
        "\n",
        "le.fit(np.hstack([train.brand_name, test.brand_name]))\n",
        "train.brand_name = le.transform(train.brand_name)\n",
        "test.brand_name = le.transform(test.brand_name)\n",
        "\n",
        "le.fit(np.hstack([train.subcat_1, test.subcat_1]))\n",
        "train.subcat_1 = le.transform(train.subcat_1)\n",
        "test.subcat_1 = le.transform(test.subcat_1)\n",
        "\n",
        "le.fit(np.hstack([train.subcat_2, test.subcat_2]))\n",
        "train.subcat_2 = le.transform(train.subcat_2)\n",
        "test.subcat_2 = le.transform(test.subcat_2)\n",
        "\n",
        "le.fit(np.hstack([train.general_cat, test.general_cat]))\n",
        "train.general_cat = le.transform(train.general_cat)\n",
        "test.general_cat = le.transform(test.general_cat)\n",
        "\n",
        "del le\n",
        "\n",
        "train.head()"
      ],
      "execution_count": 19,
      "outputs": [
        {
          "output_type": "stream",
          "text": [
            "Handling categorical variables...\n"
          ],
          "name": "stdout"
        },
        {
          "output_type": "execute_result",
          "data": {
            "text/html": [
              "<div>\n",
              "<style scoped>\n",
              "    .dataframe tbody tr th:only-of-type {\n",
              "        vertical-align: middle;\n",
              "    }\n",
              "\n",
              "    .dataframe tbody tr th {\n",
              "        vertical-align: top;\n",
              "    }\n",
              "\n",
              "    .dataframe thead th {\n",
              "        text-align: right;\n",
              "    }\n",
              "</style>\n",
              "<table border=\"1\" class=\"dataframe\">\n",
              "  <thead>\n",
              "    <tr style=\"text-align: right;\">\n",
              "      <th></th>\n",
              "      <th>train_id</th>\n",
              "      <th>name</th>\n",
              "      <th>item_condition_id</th>\n",
              "      <th>brand_name</th>\n",
              "      <th>price</th>\n",
              "      <th>shipping</th>\n",
              "      <th>item_description</th>\n",
              "      <th>general_cat</th>\n",
              "      <th>subcat_1</th>\n",
              "      <th>subcat_2</th>\n",
              "    </tr>\n",
              "  </thead>\n",
              "  <tbody>\n",
              "    <tr>\n",
              "      <th>0</th>\n",
              "      <td>0</td>\n",
              "      <td>MLB Cincinnati Reds T Shirt Size XL</td>\n",
              "      <td>3</td>\n",
              "      <td>5265</td>\n",
              "      <td>10.0</td>\n",
              "      <td>1</td>\n",
              "      <td>No description yet</td>\n",
              "      <td>5</td>\n",
              "      <td>102</td>\n",
              "      <td>773</td>\n",
              "    </tr>\n",
              "    <tr>\n",
              "      <th>1</th>\n",
              "      <td>1</td>\n",
              "      <td>Razer BlackWidow Chroma Keyboard</td>\n",
              "      <td>3</td>\n",
              "      <td>3889</td>\n",
              "      <td>52.0</td>\n",
              "      <td>0</td>\n",
              "      <td>This keyboard is in great condition and works ...</td>\n",
              "      <td>1</td>\n",
              "      <td>30</td>\n",
              "      <td>215</td>\n",
              "    </tr>\n",
              "    <tr>\n",
              "      <th>2</th>\n",
              "      <td>2</td>\n",
              "      <td>AVA-VIV Blouse</td>\n",
              "      <td>1</td>\n",
              "      <td>4588</td>\n",
              "      <td>10.0</td>\n",
              "      <td>1</td>\n",
              "      <td>Adorable top with a hint of lace and a key hol...</td>\n",
              "      <td>9</td>\n",
              "      <td>103</td>\n",
              "      <td>97</td>\n",
              "    </tr>\n",
              "    <tr>\n",
              "      <th>3</th>\n",
              "      <td>3</td>\n",
              "      <td>Leather Horse Statues</td>\n",
              "      <td>1</td>\n",
              "      <td>5265</td>\n",
              "      <td>35.0</td>\n",
              "      <td>1</td>\n",
              "      <td>New with tags. Leather horses. Retail for [rm]...</td>\n",
              "      <td>3</td>\n",
              "      <td>55</td>\n",
              "      <td>410</td>\n",
              "    </tr>\n",
              "    <tr>\n",
              "      <th>4</th>\n",
              "      <td>4</td>\n",
              "      <td>24K GOLD plated rose</td>\n",
              "      <td>1</td>\n",
              "      <td>5265</td>\n",
              "      <td>44.0</td>\n",
              "      <td>0</td>\n",
              "      <td>Complete with certificate of authenticity</td>\n",
              "      <td>9</td>\n",
              "      <td>58</td>\n",
              "      <td>542</td>\n",
              "    </tr>\n",
              "  </tbody>\n",
              "</table>\n",
              "</div>"
            ],
            "text/plain": [
              "   train_id                                 name  item_condition_id  \\\n",
              "0         0  MLB Cincinnati Reds T Shirt Size XL                  3   \n",
              "1         1     Razer BlackWidow Chroma Keyboard                  3   \n",
              "2         2                       AVA-VIV Blouse                  1   \n",
              "3         3                Leather Horse Statues                  1   \n",
              "4         4                 24K GOLD plated rose                  1   \n",
              "\n",
              "   brand_name  price  shipping  \\\n",
              "0        5265   10.0         1   \n",
              "1        3889   52.0         0   \n",
              "2        4588   10.0         1   \n",
              "3        5265   35.0         1   \n",
              "4        5265   44.0         0   \n",
              "\n",
              "                                    item_description  general_cat  subcat_1  \\\n",
              "0                                 No description yet            5       102   \n",
              "1  This keyboard is in great condition and works ...            1        30   \n",
              "2  Adorable top with a hint of lace and a key hol...            9       103   \n",
              "3  New with tags. Leather horses. Retail for [rm]...            3        55   \n",
              "4          Complete with certificate of authenticity            9        58   \n",
              "\n",
              "   subcat_2  \n",
              "0       773  \n",
              "1       215  \n",
              "2        97  \n",
              "3       410  \n",
              "4       542  "
            ]
          },
          "metadata": {
            "tags": []
          },
          "execution_count": 19
        }
      ]
    },
    {
      "metadata": {
        "id": "Ncsb4XYnVCFu",
        "colab_type": "code",
        "colab": {
          "autoexec": {
            "startup": false,
            "wait_interval": 0
          },
          "base_uri": "https://localhost:8080/",
          "height": 345
        },
        "outputId": "8e0d6cde-ce89-4fe8-a929-6a19e91adde5",
        "executionInfo": {
          "status": "ok",
          "timestamp": 1526279389973,
          "user_tz": -330,
          "elapsed": 175466,
          "user": {
            "displayName": "Jaivarsan Bala",
            "photoUrl": "//lh3.googleusercontent.com/-hQXwK0iWA2M/AAAAAAAAAAI/AAAAAAAAABU/EG08V-sCqIs/s50-c-k-no/photo.jpg",
            "userId": "103615677817218571257"
          }
        }
      },
      "cell_type": "code",
      "source": [
        "print(\"Text to seq process...\")\n",
        "from keras.preprocessing.text import Tokenizer\n",
        "raw_text = np.hstack([train.item_description.str.lower(), train.name.str.lower()])\n",
        "\n",
        "print(\"   Fitting tokenizer...\")\n",
        "tok_raw = Tokenizer()\n",
        "tok_raw.fit_on_texts(raw_text)\n",
        "print(\"   Transforming text to seq...\")\n",
        "\n",
        "train[\"seq_item_description\"] = tok_raw.texts_to_sequences(train.item_description.str.lower())\n",
        "test[\"seq_item_description\"] = tok_raw.texts_to_sequences(test.item_description.str.lower())\n",
        "train[\"seq_name\"] = tok_raw.texts_to_sequences(train.name.str.lower())\n",
        "test[\"seq_name\"] = tok_raw.texts_to_sequences(test.name.str.lower())\n",
        "train.head(5)"
      ],
      "execution_count": 20,
      "outputs": [
        {
          "output_type": "stream",
          "text": [
            "Text to seq process...\n",
            "   Fitting tokenizer...\n",
            "   Transforming text to seq...\n"
          ],
          "name": "stdout"
        },
        {
          "output_type": "execute_result",
          "data": {
            "text/html": [
              "<div>\n",
              "<style scoped>\n",
              "    .dataframe tbody tr th:only-of-type {\n",
              "        vertical-align: middle;\n",
              "    }\n",
              "\n",
              "    .dataframe tbody tr th {\n",
              "        vertical-align: top;\n",
              "    }\n",
              "\n",
              "    .dataframe thead th {\n",
              "        text-align: right;\n",
              "    }\n",
              "</style>\n",
              "<table border=\"1\" class=\"dataframe\">\n",
              "  <thead>\n",
              "    <tr style=\"text-align: right;\">\n",
              "      <th></th>\n",
              "      <th>train_id</th>\n",
              "      <th>name</th>\n",
              "      <th>item_condition_id</th>\n",
              "      <th>brand_name</th>\n",
              "      <th>price</th>\n",
              "      <th>shipping</th>\n",
              "      <th>item_description</th>\n",
              "      <th>general_cat</th>\n",
              "      <th>subcat_1</th>\n",
              "      <th>subcat_2</th>\n",
              "      <th>seq_item_description</th>\n",
              "      <th>seq_name</th>\n",
              "    </tr>\n",
              "  </thead>\n",
              "  <tbody>\n",
              "    <tr>\n",
              "      <th>0</th>\n",
              "      <td>0</td>\n",
              "      <td>MLB Cincinnati Reds T Shirt Size XL</td>\n",
              "      <td>3</td>\n",
              "      <td>5265</td>\n",
              "      <td>10.0</td>\n",
              "      <td>1</td>\n",
              "      <td>No description yet</td>\n",
              "      <td>5</td>\n",
              "      <td>102</td>\n",
              "      <td>773</td>\n",
              "      <td>[12, 68, 79]</td>\n",
              "      <td>[3852, 8823, 6896, 208, 84, 6, 155]</td>\n",
              "    </tr>\n",
              "    <tr>\n",
              "      <th>1</th>\n",
              "      <td>1</td>\n",
              "      <td>Razer BlackWidow Chroma Keyboard</td>\n",
              "      <td>3</td>\n",
              "      <td>3889</td>\n",
              "      <td>52.0</td>\n",
              "      <td>0</td>\n",
              "      <td>This keyboard is in great condition and works ...</td>\n",
              "      <td>1</td>\n",
              "      <td>30</td>\n",
              "      <td>215</td>\n",
              "      <td>[29, 2627, 10, 7, 39, 17, 1, 207, 51, 19, 1113...</td>\n",
              "      <td>[10760, 25565, 16369, 2627]</td>\n",
              "    </tr>\n",
              "    <tr>\n",
              "      <th>2</th>\n",
              "      <td>2</td>\n",
              "      <td>AVA-VIV Blouse</td>\n",
              "      <td>1</td>\n",
              "      <td>4588</td>\n",
              "      <td>10.0</td>\n",
              "      <td>1</td>\n",
              "      <td>Adorable top with a hint of lace and a key hol...</td>\n",
              "      <td>9</td>\n",
              "      <td>103</td>\n",
              "      <td>97</td>\n",
              "      <td>[604, 60, 9, 4, 5347, 11, 192, 1, 4, 886, 1290...</td>\n",
              "      <td>[7634, 10563, 666]</td>\n",
              "    </tr>\n",
              "    <tr>\n",
              "      <th>3</th>\n",
              "      <td>3</td>\n",
              "      <td>Leather Horse Statues</td>\n",
              "      <td>1</td>\n",
              "      <td>5265</td>\n",
              "      <td>35.0</td>\n",
              "      <td>1</td>\n",
              "      <td>New with tags. Leather horses. Retail for [rm]...</td>\n",
              "      <td>3</td>\n",
              "      <td>55</td>\n",
              "      <td>410</td>\n",
              "      <td>[5, 9, 61, 178, 6528, 230, 3, 21, 166, 1085, 2...</td>\n",
              "      <td>[178, 2610, 14248]</td>\n",
              "    </tr>\n",
              "    <tr>\n",
              "      <th>4</th>\n",
              "      <td>4</td>\n",
              "      <td>24K GOLD plated rose</td>\n",
              "      <td>1</td>\n",
              "      <td>5265</td>\n",
              "      <td>44.0</td>\n",
              "      <td>0</td>\n",
              "      <td>Complete with certificate of authenticity</td>\n",
              "      <td>9</td>\n",
              "      <td>58</td>\n",
              "      <td>542</td>\n",
              "      <td>[807, 9, 6888, 11, 1997]</td>\n",
              "      <td>[4884, 104, 1032, 280]</td>\n",
              "    </tr>\n",
              "  </tbody>\n",
              "</table>\n",
              "</div>"
            ],
            "text/plain": [
              "   train_id                                 name  item_condition_id  \\\n",
              "0         0  MLB Cincinnati Reds T Shirt Size XL                  3   \n",
              "1         1     Razer BlackWidow Chroma Keyboard                  3   \n",
              "2         2                       AVA-VIV Blouse                  1   \n",
              "3         3                Leather Horse Statues                  1   \n",
              "4         4                 24K GOLD plated rose                  1   \n",
              "\n",
              "   brand_name  price  shipping  \\\n",
              "0        5265   10.0         1   \n",
              "1        3889   52.0         0   \n",
              "2        4588   10.0         1   \n",
              "3        5265   35.0         1   \n",
              "4        5265   44.0         0   \n",
              "\n",
              "                                    item_description  general_cat  subcat_1  \\\n",
              "0                                 No description yet            5       102   \n",
              "1  This keyboard is in great condition and works ...            1        30   \n",
              "2  Adorable top with a hint of lace and a key hol...            9       103   \n",
              "3  New with tags. Leather horses. Retail for [rm]...            3        55   \n",
              "4          Complete with certificate of authenticity            9        58   \n",
              "\n",
              "   subcat_2                               seq_item_description  \\\n",
              "0       773                                       [12, 68, 79]   \n",
              "1       215  [29, 2627, 10, 7, 39, 17, 1, 207, 51, 19, 1113...   \n",
              "2        97  [604, 60, 9, 4, 5347, 11, 192, 1, 4, 886, 1290...   \n",
              "3       410  [5, 9, 61, 178, 6528, 230, 3, 21, 166, 1085, 2...   \n",
              "4       542                           [807, 9, 6888, 11, 1997]   \n",
              "\n",
              "                              seq_name  \n",
              "0  [3852, 8823, 6896, 208, 84, 6, 155]  \n",
              "1          [10760, 25565, 16369, 2627]  \n",
              "2                   [7634, 10563, 666]  \n",
              "3                   [178, 2610, 14248]  \n",
              "4               [4884, 104, 1032, 280]  "
            ]
          },
          "metadata": {
            "tags": []
          },
          "execution_count": 20
        }
      ]
    },
    {
      "metadata": {
        "id": "PB_GNzVvWBRY",
        "colab_type": "code",
        "colab": {
          "autoexec": {
            "startup": false,
            "wait_interval": 0
          },
          "base_uri": "https://localhost:8080/",
          "height": 52
        },
        "outputId": "58aceaf4-a459-41b5-f2ba-2d0189b37319",
        "executionInfo": {
          "status": "ok",
          "timestamp": 1526279531403,
          "user_tz": -330,
          "elapsed": 2949,
          "user": {
            "displayName": "Jaivarsan Bala",
            "photoUrl": "//lh3.googleusercontent.com/-hQXwK0iWA2M/AAAAAAAAAAI/AAAAAAAAABU/EG08V-sCqIs/s50-c-k-no/photo.jpg",
            "userId": "103615677817218571257"
          }
        }
      },
      "cell_type": "code",
      "source": [
        "#SEQUENCES VARIABLES ANALYSIS\n",
        "max_name_seq = np.max([np.max(train.seq_name.apply(lambda x: len(x))), np.max(test.seq_name.apply(lambda x: len(x)))])\n",
        "max_seq_item_description = np.max([np.max(train.seq_item_description.apply(lambda x: len(x)))\n",
        "                                   , np.max(test.seq_item_description.apply(lambda x: len(x)))])\n",
        "print(\"max name seq \"+str(max_name_seq))\n",
        "print(\"max item desc seq \"+str(max_seq_item_description))"
      ],
      "execution_count": 21,
      "outputs": [
        {
          "output_type": "stream",
          "text": [
            "max name seq 17\n",
            "max item desc seq 269\n"
          ],
          "name": "stdout"
        }
      ]
    },
    {
      "metadata": {
        "id": "6Wbhwx7qWX1P",
        "colab_type": "code",
        "colab": {
          "autoexec": {
            "startup": false,
            "wait_interval": 0
          },
          "base_uri": "https://localhost:8080/",
          "height": 364
        },
        "outputId": "05f30978-d652-47c5-c8de-226478fdb67c",
        "executionInfo": {
          "status": "ok",
          "timestamp": 1526280158658,
          "user_tz": -330,
          "elapsed": 2019,
          "user": {
            "displayName": "Jaivarsan Bala",
            "photoUrl": "//lh3.googleusercontent.com/-hQXwK0iWA2M/AAAAAAAAAAI/AAAAAAAAABU/EG08V-sCqIs/s50-c-k-no/photo.jpg",
            "userId": "103615677817218571257"
          }
        }
      },
      "cell_type": "code",
      "source": [
        "train.seq_name.apply(lambda x: len(x)).hist()"
      ],
      "execution_count": 22,
      "outputs": [
        {
          "output_type": "execute_result",
          "data": {
            "text/plain": [
              "<matplotlib.axes._subplots.AxesSubplot at 0x7f80ed9be438>"
            ]
          },
          "metadata": {
            "tags": []
          },
          "execution_count": 22
        },
        {
          "output_type": "display_data",
          "data": {
            "image/png": "[encoded data removed]",
            "text/plain": [
              "<matplotlib.figure.Figure at 0x7f814f3434a8>"
            ]
          },
          "metadata": {
            "tags": []
          }
        }
      ]
    },
    {
      "metadata": {
        "id": "dMLtqUzrYwmP",
        "colab_type": "code",
        "colab": {
          "autoexec": {
            "startup": false,
            "wait_interval": 0
          },
          "base_uri": "https://localhost:8080/",
          "height": 364
        },
        "outputId": "c543f309-50c3-44d0-bfde-c07c41c108fe",
        "executionInfo": {
          "status": "ok",
          "timestamp": 1526280185116,
          "user_tz": -330,
          "elapsed": 1612,
          "user": {
            "displayName": "Jaivarsan Bala",
            "photoUrl": "//lh3.googleusercontent.com/-hQXwK0iWA2M/AAAAAAAAAAI/AAAAAAAAABU/EG08V-sCqIs/s50-c-k-no/photo.jpg",
            "userId": "103615677817218571257"
          }
        }
      },
      "cell_type": "code",
      "source": [
        "train.seq_item_description.apply(lambda x: len(x)).hist()"
      ],
      "execution_count": 23,
      "outputs": [
        {
          "output_type": "execute_result",
          "data": {
            "text/plain": [
              "<matplotlib.axes._subplots.AxesSubplot at 0x7f80b3aa5198>"
            ]
          },
          "metadata": {
            "tags": []
          },
          "execution_count": 23
        },
        {
          "output_type": "display_data",
          "data": {
            "image/png": "[encoded data removed]",
            "text/plain": [
              "<matplotlib.figure.Figure at 0x7f80cafb1e48>"
            ]
          },
          "metadata": {
            "tags": []
          }
        }
      ]
    },
    {
      "metadata": {
        "id": "zUHnpOmEY3HG",
        "colab_type": "code",
        "colab": {
          "autoexec": {
            "startup": false,
            "wait_interval": 0
          }
        }
      },
      "cell_type": "code",
      "source": [
        "\n",
        "#EMBEDDINGS MAX VALUE\n",
        "#Base on the histograms, we select the next lengths\n",
        "MAX_NAME_SEQ = 10\n",
        "MAX_ITEM_DESC_SEQ = 75\n",
        "MAX_TEXT = np.max([np.max(train.seq_name.max())\n",
        "                   , np.max(test.seq_name.max())\n",
        "                  , np.max(train.seq_item_description.max())\n",
        "                  , np.max(test.seq_item_description.max())])+2\n",
        "\n",
        "MAX_BRAND = np.max([train.brand_name.max(), test.brand_name.max()])+1\n",
        "MAX_CONDITION = np.max([train.item_condition_id.max(), test.item_condition_id.max()])+1\n",
        "MAX_GENERAL_CAT = np.max([train.general_cat.max(), test.general_cat.max()])+1\n",
        "MAX_SUBCAT_1 = np.max([train.subcat_1.max(), test.subcat_1.max()])+1\n",
        "MAX_SUBCAT_2 = np.max([train.subcat_2.max(), test.subcat_2.max()])+1"
      ],
      "execution_count": 0,
      "outputs": []
    },
    {
      "metadata": {
        "id": "W6OrL_M_ZhRU",
        "colab_type": "code",
        "colab": {
          "autoexec": {
            "startup": false,
            "wait_interval": 0
          },
          "base_uri": "https://localhost:8080/",
          "height": 397
        },
        "outputId": "e51a694c-dde1-4510-b4b0-2b3010f9b0ed",
        "executionInfo": {
          "status": "ok",
          "timestamp": 1526280484514,
          "user_tz": -330,
          "elapsed": 1585,
          "user": {
            "displayName": "Jaivarsan Bala",
            "photoUrl": "//lh3.googleusercontent.com/-hQXwK0iWA2M/AAAAAAAAAAI/AAAAAAAAABU/EG08V-sCqIs/s50-c-k-no/photo.jpg",
            "userId": "103615677817218571257"
          }
        }
      },
      "cell_type": "code",
      "source": [
        "#SCALE target variable\n",
        "train[\"target\"] = np.log(train.price+1)\n",
        "target_scaler = MinMaxScaler(feature_range=(-1, 1))\n",
        "train[\"target\"] = target_scaler.fit_transform(train.target.values.reshape(-1,1))\n",
        "pd.DataFrame(train.target).hist()"
      ],
      "execution_count": 28,
      "outputs": [
        {
          "output_type": "execute_result",
          "data": {
            "text/plain": [
              "array([[<matplotlib.axes._subplots.AxesSubplot object at 0x7f80b3be1a90>]],\n",
              "      dtype=object)"
            ]
          },
          "metadata": {
            "tags": []
          },
          "execution_count": 28
        },
        {
          "output_type": "display_data",
          "data": {
            "image/png": "[encoded data removed]",
            "text/plain": [
              "<matplotlib.figure.Figure at 0x7f80b3be1780>"
            ]
          },
          "metadata": {
            "tags": []
          }
        }
      ]
    },
    {
      "metadata": {
        "id": "zVHogbv-aACm",
        "colab_type": "code",
        "colab": {
          "autoexec": {
            "startup": false,
            "wait_interval": 0
          },
          "base_uri": "https://localhost:8080/",
          "height": 86
        },
        "outputId": "4b71170b-b6b3-4cc0-c2e7-6527d8a8ee82",
        "executionInfo": {
          "status": "ok",
          "timestamp": 1526280596234,
          "user_tz": -330,
          "elapsed": 3171,
          "user": {
            "displayName": "Jaivarsan Bala",
            "photoUrl": "//lh3.googleusercontent.com/-hQXwK0iWA2M/AAAAAAAAAAI/AAAAAAAAABU/EG08V-sCqIs/s50-c-k-no/photo.jpg",
            "userId": "103615677817218571257"
          }
        }
      },
      "cell_type": "code",
      "source": [
        "#EXTRACT DEVELOPTMENT TEST\n",
        "dtrain, dvalid = train_test_split(train, random_state=123, train_size=0.99)\n",
        "print(dtrain.shape)\n",
        "print(dvalid.shape)"
      ],
      "execution_count": 32,
      "outputs": [
        {
          "output_type": "stream",
          "text": [
            "/usr/local/lib/python3.6/dist-packages/sklearn/model_selection/_split.py:2026: FutureWarning: From version 0.21, test_size will always complement train_size unless both are specified.\n",
            "  FutureWarning)\n"
          ],
          "name": "stderr"
        },
        {
          "output_type": "stream",
          "text": [
            "(1467709, 13)\n",
            "(14826, 13)\n"
          ],
          "name": "stdout"
        }
      ]
    },
    {
      "metadata": {
        "id": "thizaFKJagWd",
        "colab_type": "code",
        "colab": {
          "autoexec": {
            "startup": false,
            "wait_interval": 0
          }
        }
      },
      "cell_type": "code",
      "source": [
        "#KERAS DATA DEFINITION\n",
        "from keras.preprocessing.sequence import pad_sequences\n",
        "\n",
        "def get_keras_data(dataset):\n",
        "    X = {\n",
        "        'name': pad_sequences(dataset.seq_name, maxlen=MAX_NAME_SEQ)\n",
        "        ,'item_desc': pad_sequences(dataset.seq_item_description, maxlen=MAX_ITEM_DESC_SEQ)\n",
        "        ,'brand_name': np.array(dataset.brand_name)\n",
        "        ,'item_condition': np.array(dataset.item_condition_id)\n",
        "        ,'num_vars': np.array(dataset[[\"shipping\"]])\n",
        "        ,'general_cat': np.array(dataset.general_cat)\n",
        "        ,'subcat_1': np.array(dataset.subcat_1)\n",
        "        ,'subcat_2': np.array(dataset.subcat_2)\n",
        "    }\n",
        "    return X\n",
        "\n",
        "X_train = get_keras_data(dtrain)\n",
        "X_valid = get_keras_data(dvalid)\n",
        "X_test = get_keras_data(test)"
      ],
      "execution_count": 0,
      "outputs": []
    },
    {
      "metadata": {
        "id": "I7tkHHJubUyJ",
        "colab_type": "code",
        "colab": {
          "autoexec": {
            "startup": false,
            "wait_interval": 0
          },
          "base_uri": "https://localhost:8080/",
          "height": 1233
        },
        "outputId": "93a30490-dd8d-479a-8276-4209e8a7637b",
        "executionInfo": {
          "status": "ok",
          "timestamp": 1526281391996,
          "user_tz": -330,
          "elapsed": 1624,
          "user": {
            "displayName": "Jaivarsan Bala",
            "photoUrl": "//lh3.googleusercontent.com/-hQXwK0iWA2M/AAAAAAAAAAI/AAAAAAAAABU/EG08V-sCqIs/s50-c-k-no/photo.jpg",
            "userId": "103615677817218571257"
          }
        }
      },
      "cell_type": "code",
      "source": [
        "#KERAS MODEL DEFINITION\n",
        "from keras.layers import Input, Dropout, Dense, BatchNormalization, Activation, concatenate, GRU, Embedding, Flatten, BatchNormalization\n",
        "from keras.models import Model\n",
        "from keras.callbacks import ModelCheckpoint, Callback, EarlyStopping\n",
        "from keras import backend as K\n",
        "\n",
        "def get_callbacks(filepath, patience=2):\n",
        "    es = EarlyStopping('val_loss', patience=patience, mode=\"min\")\n",
        "    msave = ModelCheckpoint(filepath, save_best_only=True)\n",
        "    return [es, msave]\n",
        "\n",
        "def rmsle_cust(y_true, y_pred):\n",
        "    first_log = K.log(K.clip(y_pred, K.epsilon(), None) + 1.)\n",
        "    second_log = K.log(K.clip(y_true, K.epsilon(), None) + 1.)\n",
        "    return K.sqrt(K.mean(K.square(first_log - second_log), axis=-1))\n",
        "\n",
        "def get_model():\n",
        "    #params\n",
        "    dr_r = 0.1\n",
        "    \n",
        "    #Inputs\n",
        "    name = Input(shape=[X_train[\"name\"].shape[1]], name=\"name\")\n",
        "    item_desc = Input(shape=[X_train[\"item_desc\"].shape[1]], name=\"item_desc\")\n",
        "    brand_name = Input(shape=[1], name=\"brand_name\")\n",
        "    item_condition = Input(shape=[1], name=\"item_condition\")\n",
        "    num_vars = Input(shape=[X_train[\"num_vars\"].shape[1]], name=\"num_vars\")\n",
        "    general_cat = Input(shape=[1], name=\"general_cat\")\n",
        "    subcat_1 = Input(shape=[1], name=\"subcat_1\")\n",
        "    subcat_2 = Input(shape=[1], name=\"subcat_2\")\n",
        "    \n",
        "    \n",
        "    #Embeddings layers\n",
        "    emb_name = Embedding(MAX_TEXT, 50)(name)\n",
        "    emb_item_desc = Embedding(MAX_TEXT, 50)(item_desc)\n",
        "    emb_brand_name = Embedding(MAX_BRAND, 10)(brand_name)\n",
        "    emb_general_cat = Embedding(MAX_GENERAL_CAT, 10)(general_cat)\n",
        "    emb_subcat_1 = Embedding(MAX_SUBCAT_1, 10)(subcat_1)\n",
        "    emb_subcat_2 = Embedding(MAX_SUBCAT_2, 10)(subcat_2)\n",
        "    emb_item_condition = Embedding(MAX_CONDITION, 5)(item_condition)\n",
        "    \n",
        "    #rnn layer\n",
        "    rnn_layer1 = GRU(16) (emb_item_desc)\n",
        "    rnn_layer2 = GRU(8) (emb_name)\n",
        "    \n",
        "    #main layer\n",
        "    main_l = concatenate([\n",
        "        Flatten() (emb_brand_name)\n",
        "        , Flatten() (emb_general_cat)\n",
        "        , Flatten() (emb_subcat_1)\n",
        "        , Flatten() (emb_subcat_2)\n",
        "        , Flatten() (emb_item_condition)\n",
        "        , rnn_layer1\n",
        "        , rnn_layer2\n",
        "        , num_vars\n",
        "    ])\n",
        "    main_l = Dropout(dr_r) (Dense(128) (main_l))\n",
        "    main_l = Dropout(dr_r) (Dense(64) (main_l))\n",
        "    \n",
        "    #output\n",
        "    output = Dense(1, activation=\"linear\") (main_l)\n",
        "    \n",
        "    #model\n",
        "    model = Model([name, item_desc, brand_name\n",
        "                   , item_condition, num_vars,general_cat, subcat_1, subcat_2], output)\n",
        "    model.compile(loss=\"mse\", optimizer=\"adam\", metrics=[\"mae\", rmsle_cust])\n",
        "    \n",
        "    return model\n",
        "\n",
        "    \n",
        "model = get_model()\n",
        "model.summary()"
      ],
      "execution_count": 37,
      "outputs": [
        {
          "output_type": "stream",
          "text": [
            "__________________________________________________________________________________________________\n",
            "Layer (type)                    Output Shape         Param #     Connected to                     \n",
            "==================================================================================================\n",
            "brand_name (InputLayer)         (None, 1)            0                                            \n",
            "__________________________________________________________________________________________________\n",
            "general_cat (InputLayer)        (None, 1)            0                                            \n",
            "__________________________________________________________________________________________________\n",
            "subcat_1 (InputLayer)           (None, 1)            0                                            \n",
            "__________________________________________________________________________________________________\n",
            "subcat_2 (InputLayer)           (None, 1)            0                                            \n",
            "__________________________________________________________________________________________________\n",
            "item_condition (InputLayer)     (None, 1)            0                                            \n",
            "__________________________________________________________________________________________________\n",
            "item_desc (InputLayer)          (None, 75)           0                                            \n",
            "__________________________________________________________________________________________________\n",
            "name (InputLayer)               (None, 10)           0                                            \n",
            "__________________________________________________________________________________________________\n",
            "embedding_10 (Embedding)        (None, 1, 10)        52900       brand_name[0][0]                 \n",
            "__________________________________________________________________________________________________\n",
            "embedding_11 (Embedding)        (None, 1, 10)        110         general_cat[0][0]                \n",
            "__________________________________________________________________________________________________\n",
            "embedding_12 (Embedding)        (None, 1, 10)        1140        subcat_1[0][0]                   \n",
            "__________________________________________________________________________________________________\n",
            "embedding_13 (Embedding)        (None, 1, 10)        8830        subcat_2[0][0]                   \n",
            "__________________________________________________________________________________________________\n",
            "embedding_14 (Embedding)        (None, 1, 5)         30          item_condition[0][0]             \n",
            "__________________________________________________________________________________________________\n",
            "embedding_9 (Embedding)         (None, 75, 50)       12954400    item_desc[0][0]                  \n",
            "__________________________________________________________________________________________________\n",
            "embedding_8 (Embedding)         (None, 10, 50)       12954400    name[0][0]                       \n",
            "__________________________________________________________________________________________________\n",
            "flatten_3 (Flatten)             (None, 10)           0           embedding_10[0][0]               \n",
            "__________________________________________________________________________________________________\n",
            "flatten_4 (Flatten)             (None, 10)           0           embedding_11[0][0]               \n",
            "__________________________________________________________________________________________________\n",
            "flatten_5 (Flatten)             (None, 10)           0           embedding_12[0][0]               \n",
            "__________________________________________________________________________________________________\n",
            "flatten_6 (Flatten)             (None, 10)           0           embedding_13[0][0]               \n",
            "__________________________________________________________________________________________________\n",
            "flatten_7 (Flatten)             (None, 5)            0           embedding_14[0][0]               \n",
            "__________________________________________________________________________________________________\n",
            "gru_3 (GRU)                     (None, 16)           3216        embedding_9[0][0]                \n",
            "__________________________________________________________________________________________________\n",
            "gru_4 (GRU)                     (None, 8)            1416        embedding_8[0][0]                \n",
            "__________________________________________________________________________________________________\n",
            "num_vars (InputLayer)           (None, 1)            0                                            \n",
            "__________________________________________________________________________________________________\n",
            "concatenate_1 (Concatenate)     (None, 70)           0           flatten_3[0][0]                  \n",
            "                                                                 flatten_4[0][0]                  \n",
            "                                                                 flatten_5[0][0]                  \n",
            "                                                                 flatten_6[0][0]                  \n",
            "                                                                 flatten_7[0][0]                  \n",
            "                                                                 gru_3[0][0]                      \n",
            "                                                                 gru_4[0][0]                      \n",
            "                                                                 num_vars[0][0]                   \n",
            "__________________________________________________________________________________________________\n",
            "dense_1 (Dense)                 (None, 128)          9088        concatenate_1[0][0]              \n",
            "__________________________________________________________________________________________________\n",
            "dropout_1 (Dropout)             (None, 128)          0           dense_1[0][0]                    \n",
            "__________________________________________________________________________________________________\n",
            "dense_2 (Dense)                 (None, 64)           8256        dropout_1[0][0]                  \n",
            "__________________________________________________________________________________________________\n",
            "dropout_2 (Dropout)             (None, 64)           0           dense_2[0][0]                    \n",
            "__________________________________________________________________________________________________\n",
            "dense_3 (Dense)                 (None, 1)            65          dropout_2[0][0]                  \n",
            "==================================================================================================\n",
            "Total params: 25,993,851\n",
            "Trainable params: 25,993,851\n",
            "Non-trainable params: 0\n",
            "__________________________________________________________________________________________________\n"
          ],
          "name": "stdout"
        }
      ]
    },
    {
      "metadata": {
        "id": "Z4TovqZJdfmX",
        "colab_type": "code",
        "colab": {
          "autoexec": {
            "startup": false,
            "wait_interval": 0
          },
          "base_uri": "https://localhost:8080/",
          "height": 245
        },
        "outputId": "0ded0f7e-57fe-4f99-d4b2-79051bfd0902",
        "executionInfo": {
          "status": "ok",
          "timestamp": 1526282384492,
          "user_tz": -330,
          "elapsed": 450757,
          "user": {
            "displayName": "Jaivarsan Bala",
            "photoUrl": "//lh3.googleusercontent.com/-hQXwK0iWA2M/AAAAAAAAAAI/AAAAAAAAABU/EG08V-sCqIs/s50-c-k-no/photo.jpg",
            "userId": "103615677817218571257"
          }
        }
      },
      "cell_type": "code",
      "source": [
        "#FITTING THE MODEL\n",
        "BATCH_SIZE = 20000\n",
        "epochs = 5\n",
        "\n",
        "model = get_model()\n",
        "model.fit(X_train, dtrain.target, epochs=epochs, batch_size=BATCH_SIZE\n",
        "          , validation_data=(X_valid, dvalid.target)\n",
        "          , verbose=1)"
      ],
      "execution_count": 39,
      "outputs": [
        {
          "output_type": "stream",
          "text": [
            "Train on 1467709 samples, validate on 14826 samples\n",
            "Epoch 1/5\n",
            "1467709/1467709 [==============================] - 91s 62us/step - loss: 0.0270 - mean_absolute_error: 0.1252 - rmsle_cust: 0.0153 - val_loss: 0.0183 - val_mean_absolute_error: 0.1022 - val_rmsle_cust: 0.0134\n",
            "Epoch 2/5\n",
            "1467709/1467709 [==============================] - 89s 61us/step - loss: 0.0181 - mean_absolute_error: 0.1019 - rmsle_cust: 0.0133 - val_loss: 0.0164 - val_mean_absolute_error: 0.0968 - val_rmsle_cust: 0.0128\n",
            "Epoch 3/5\n",
            "1467709/1467709 [==============================] - 89s 61us/step - loss: 0.0159 - mean_absolute_error: 0.0955 - rmsle_cust: 0.0125 - val_loss: 0.0155 - val_mean_absolute_error: 0.0946 - val_rmsle_cust: 0.0125\n",
            "Epoch 4/5\n",
            " 180000/1467709 [==>...........................] - ETA: 1:18 - loss: 0.0147 - mean_absolute_error: 0.0917 - rmsle_cust: 0.0120"
          ],
          "name": "stdout"
        },
        {
          "output_type": "stream",
          "text": [
            "1467709/1467709 [==============================] - 89s 61us/step - loss: 0.0148 - mean_absolute_error: 0.0920 - rmsle_cust: 0.0121 - val_loss: 0.0156 - val_mean_absolute_error: 0.0944 - val_rmsle_cust: 0.0124\n",
            "Epoch 5/5\n",
            "1467709/1467709 [==============================] - 89s 61us/step - loss: 0.0141 - mean_absolute_error: 0.0898 - rmsle_cust: 0.0119 - val_loss: 0.0154 - val_mean_absolute_error: 0.0947 - val_rmsle_cust: 0.0124\n"
          ],
          "name": "stdout"
        },
        {
          "output_type": "execute_result",
          "data": {
            "text/plain": [
              "<keras.callbacks.History at 0x7f8086634080>"
            ]
          },
          "metadata": {
            "tags": []
          },
          "execution_count": 39
        }
      ]
    },
    {
      "metadata": {
        "id": "kNzo8DDSiBbX",
        "colab_type": "code",
        "colab": {
          "autoexec": {
            "startup": false,
            "wait_interval": 0
          }
        }
      },
      "cell_type": "code",
      "source": [
        "def rmsle(y, y_pred):\n",
        "    assert len(y) == len(y_pred)\n",
        "    to_sum = [(math.log(y_pred[i] + 1) - math.log(y[i] + 1)) ** 2.0 for i,pred in enumerate(y_pred)]\n",
        "    return (sum(to_sum) * (1.0/len(y))) ** 0.5"
      ],
      "execution_count": 0,
      "outputs": []
    },
    {
      "metadata": {
        "id": "xEVd4LpOhmJk",
        "colab_type": "code",
        "colab": {
          "autoexec": {
            "startup": false,
            "wait_interval": 0
          },
          "base_uri": "https://localhost:8080/",
          "height": 34
        },
        "outputId": "98a07857-97c7-4621-8b43-5dd0faad762e",
        "executionInfo": {
          "status": "ok",
          "timestamp": 1526282679048,
          "user_tz": -330,
          "elapsed": 20933,
          "user": {
            "displayName": "Jaivarsan Bala",
            "photoUrl": "//lh3.googleusercontent.com/-hQXwK0iWA2M/AAAAAAAAAAI/AAAAAAAAABU/EG08V-sCqIs/s50-c-k-no/photo.jpg",
            "userId": "103615677817218571257"
          }
        }
      },
      "cell_type": "code",
      "source": [
        "#EVLUEATE THE MODEL ON DEV TEST: What is it doing?\n",
        "val_preds = model.predict(X_valid)\n",
        "val_preds = target_scaler.inverse_transform(val_preds)\n",
        "val_preds = np.exp(val_preds)+1\n",
        "\n",
        "#mean_absolute_error, mean_squared_log_error\n",
        "y_true = np.array(dvalid.price.values)\n",
        "y_pred = val_preds[:,0]\n",
        "v_rmsle = rmsle(y_true, y_pred)\n",
        "print(\" RMSLE error on dev test: \"+str(v_rmsle))"
      ],
      "execution_count": 44,
      "outputs": [
        {
          "output_type": "stream",
          "text": [
            " RMSLE error on dev test: 0.49410609597357885\n"
          ],
          "name": "stdout"
        }
      ]
    },
    {
      "metadata": {
        "id": "qCe8jCrKigCu",
        "colab_type": "code",
        "colab": {
          "autoexec": {
            "startup": false,
            "wait_interval": 0
          },
          "base_uri": "https://localhost:8080/",
          "height": 121
        },
        "outputId": "eaf8cf41-952f-4b4f-81ac-02cbbe2e546a",
        "executionInfo": {
          "status": "ok",
          "timestamp": 1526282740556,
          "user_tz": -330,
          "elapsed": 7976,
          "user": {
            "displayName": "Jaivarsan Bala",
            "photoUrl": "//lh3.googleusercontent.com/-hQXwK0iWA2M/AAAAAAAAAAI/AAAAAAAAABU/EG08V-sCqIs/s50-c-k-no/photo.jpg",
            "userId": "103615677817218571257"
          }
        }
      },
      "cell_type": "code",
      "source": [
        "#CREATE PREDICTIONS\n",
        "preds = model.predict(X_test, batch_size=BATCH_SIZE)\n",
        "preds = target_scaler.inverse_transform(preds)\n",
        "preds = np.exp(preds)-1\n",
        "\n",
        "submission = test[[\"test_id\"]]\n",
        "submission[\"price\"] = preds"
      ],
      "execution_count": 45,
      "outputs": [
        {
          "output_type": "stream",
          "text": [
            "/usr/local/lib/python3.6/dist-packages/ipykernel_launcher.py:6: SettingWithCopyWarning: \n",
            "A value is trying to be set on a copy of a slice from a DataFrame.\n",
            "Try using .loc[row_indexer,col_indexer] = value instead\n",
            "\n",
            "See the caveats in the documentation: http://pandas.pydata.org/pandas-docs/stable/indexing.html#indexing-view-versus-copy\n",
            "  \n"
          ],
          "name": "stderr"
        }
      ]
    },
    {
      "metadata": {
        "id": "CZV3ZP1disDH",
        "colab_type": "code",
        "colab": {
          "autoexec": {
            "startup": false,
            "wait_interval": 0
          },
          "base_uri": "https://localhost:8080/",
          "height": 206
        },
        "outputId": "70cd0389-205b-40b4-d159-06bf162493db",
        "executionInfo": {
          "status": "ok",
          "timestamp": 1526282950162,
          "user_tz": -330,
          "elapsed": 1057,
          "user": {
            "displayName": "Jaivarsan Bala",
            "photoUrl": "//lh3.googleusercontent.com/-hQXwK0iWA2M/AAAAAAAAAAI/AAAAAAAAABU/EG08V-sCqIs/s50-c-k-no/photo.jpg",
            "userId": "103615677817218571257"
          }
        }
      },
      "cell_type": "code",
      "source": [
        "submission.head()"
      ],
      "execution_count": 47,
      "outputs": [
        {
          "output_type": "execute_result",
          "data": {
            "text/html": [
              "<div>\n",
              "<style scoped>\n",
              "    .dataframe tbody tr th:only-of-type {\n",
              "        vertical-align: middle;\n",
              "    }\n",
              "\n",
              "    .dataframe tbody tr th {\n",
              "        vertical-align: top;\n",
              "    }\n",
              "\n",
              "    .dataframe thead th {\n",
              "        text-align: right;\n",
              "    }\n",
              "</style>\n",
              "<table border=\"1\" class=\"dataframe\">\n",
              "  <thead>\n",
              "    <tr style=\"text-align: right;\">\n",
              "      <th></th>\n",
              "      <th>test_id</th>\n",
              "      <th>price</th>\n",
              "    </tr>\n",
              "  </thead>\n",
              "  <tbody>\n",
              "    <tr>\n",
              "      <th>0</th>\n",
              "      <td>0</td>\n",
              "      <td>10.358455</td>\n",
              "    </tr>\n",
              "    <tr>\n",
              "      <th>1</th>\n",
              "      <td>1</td>\n",
              "      <td>14.409668</td>\n",
              "    </tr>\n",
              "    <tr>\n",
              "      <th>2</th>\n",
              "      <td>2</td>\n",
              "      <td>35.863796</td>\n",
              "    </tr>\n",
              "    <tr>\n",
              "      <th>3</th>\n",
              "      <td>3</td>\n",
              "      <td>16.008631</td>\n",
              "    </tr>\n",
              "    <tr>\n",
              "      <th>4</th>\n",
              "      <td>4</td>\n",
              "      <td>7.692896</td>\n",
              "    </tr>\n",
              "  </tbody>\n",
              "</table>\n",
              "</div>"
            ],
            "text/plain": [
              "   test_id      price\n",
              "0        0  10.358455\n",
              "1        1  14.409668\n",
              "2        2  35.863796\n",
              "3        3  16.008631\n",
              "4        4   7.692896"
            ]
          },
          "metadata": {
            "tags": []
          },
          "execution_count": 47
        }
      ]
    },
    {
      "metadata": {
        "id": "ZMlmAPo7jTsP",
        "colab_type": "code",
        "colab": {
          "autoexec": {
            "startup": false,
            "wait_interval": 0
          },
          "base_uri": "https://localhost:8080/",
          "height": 364
        },
        "outputId": "a4a6f1cc-2727-454d-f494-82abc533cc7e",
        "executionInfo": {
          "status": "ok",
          "timestamp": 1526282968534,
          "user_tz": -330,
          "elapsed": 4117,
          "user": {
            "displayName": "Jaivarsan Bala",
            "photoUrl": "//lh3.googleusercontent.com/-hQXwK0iWA2M/AAAAAAAAAAI/AAAAAAAAABU/EG08V-sCqIs/s50-c-k-no/photo.jpg",
            "userId": "103615677817218571257"
          }
        }
      },
      "cell_type": "code",
      "source": [
        "submission.to_csv(\"./myNNsubmission.csv\", index=False)\n",
        "submission.price.hist()"
      ],
      "execution_count": 48,
      "outputs": [
        {
          "output_type": "execute_result",
          "data": {
            "text/plain": [
              "<matplotlib.axes._subplots.AxesSubplot at 0x7f8084e410b8>"
            ]
          },
          "metadata": {
            "tags": []
          },
          "execution_count": 48
        },
        {
          "output_type": "display_data",
          "data": {
            "image/png": "[encoded data removed]",
            "text/plain": [
              "<matplotlib.figure.Figure at 0x7f8084df20b8>"
            ]
          },
          "metadata": {
            "tags": []
          }
        }
      ]
    },
    {
      "metadata": {
        "id": "FLKjns4ojgfy",
        "colab_type": "code",
        "colab": {
          "autoexec": {
            "startup": false,
            "wait_interval": 0
          }
        }
      },
      "cell_type": "code",
      "source": [
        "from google.colab import files\n",
        "files.download('./myNNsubmission.csv')"
      ],
      "execution_count": 0,
      "outputs": []
    }
  ]
}