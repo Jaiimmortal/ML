{
 "cells": [
  {
   "cell_type": "markdown",
   "metadata": {},
   "source": [
    "![example](exmp.jpg)"
   ]
  },
  {
   "cell_type": "code",
   "execution_count": 1,
   "metadata": {
    "collapsed": true
   },
   "outputs": [],
   "source": [
    "from sklearn.linear_model import LinearRegression\n",
    "import numpy as np"
   ]
  },
  {
   "cell_type": "code",
   "execution_count": 2,
   "metadata": {
    "collapsed": true
   },
   "outputs": [],
   "source": [
    "X_train = np.array([[5,3,2],[9,2,4],[8,6,3],[5,4,5]])\n",
    "y_train = np.array([151022,183652,482466,202541])"
   ]
  },
  {
   "cell_type": "code",
   "execution_count": 3,
   "metadata": {
    "collapsed": true
   },
   "outputs": [],
   "source": [
    "linreg = LinearRegression()"
   ]
  },
  {
   "cell_type": "code",
   "execution_count": 4,
   "metadata": {},
   "outputs": [
    {
     "data": {
      "text/plain": [
       "LinearRegression(copy_X=True, fit_intercept=True, n_jobs=1, normalize=False)"
      ]
     },
     "execution_count": 4,
     "metadata": {},
     "output_type": "execute_result"
    }
   ],
   "source": [
    "linreg.fit(X_train,y_train)"
   ]
  },
  {
   "cell_type": "code",
   "execution_count": 5,
   "metadata": {},
   "outputs": [
    {
     "name": "stdout",
     "output_type": "stream",
     "text": [
      "7+2+5 = 107687\n"
     ]
    }
   ],
   "source": [
    "print(\"7+2+5 = %d\" % linreg.predict([[7,2,5]]))"
   ]
  },
  {
   "cell_type": "code",
   "execution_count": 17,
   "metadata": {
    "collapsed": true
   },
   "outputs": [],
   "source": [
    "from sklearn.linear_model import LinearRegression\n",
    "from sklearn.svm import SVR\n",
    "from sklearn.neighbors import KNeighborsRegressor\n",
    "from sklearn.tree import DecisionTreeRegressor\n",
    "from sklearn.ensemble import GradientBoostingRegressor\n",
    "from sklearn.gaussian_process import GaussianProcessRegressor\n",
    "from sklearn.cross_decomposition import PLSRegression\n",
    "from sklearn.ensemble import AdaBoostRegressor\n",
    "\n",
    "from sklearn.model_selection import GridSearchCV"
   ]
  },
  {
   "cell_type": "code",
   "execution_count": 7,
   "metadata": {
    "collapsed": true
   },
   "outputs": [],
   "source": [
    "import numpy as np"
   ]
  },
  {
   "cell_type": "code",
   "execution_count": 8,
   "metadata": {
    "collapsed": true
   },
   "outputs": [],
   "source": [
    "X_train = np.array([[5,3,2],[9,2,4],[8,6,3],[5,4,5]])\n",
    "y_train = np.array([151022,183652,482466,202541])"
   ]
  },
  {
   "cell_type": "code",
   "execution_count": 16,
   "metadata": {
    "collapsed": true
   },
   "outputs": [],
   "source": [
    "models = [\n",
    "  [LinearRegression(), {\"fit_intercept\": [True, False]}], \n",
    "  [SVR(), {\"kernel\": [\"linear\", \"poly\", \"rbf\", \"sigmoid\"]}], \n",
    "  [KNeighborsRegressor(), {\"n_neighbors\": [1,2], \"weights\": [\"uniform\", \"distance\"]}], \n",
    "  [DecisionTreeRegressor(), {\"criterion\": [\"mse\", \"friedman_mse\"], \"splitter\": [\"best\", \"random\"],\n",
    "    \"min_samples_split\": [x for x in range(2,6)] # generates a list [2,3,4,5]\n",
    "  }],\n",
    "  [GradientBoostingRegressor(), {\"loss\": [\"ls\", \"lad\", \"huber\", \"quantile\"]}],\n",
    "  [GaussianProcessRegressor(), {}],\n",
    "  [PLSRegression(), {}],\n",
    "  [AdaBoostRegressor(), {}]\n",
    "]"
   ]
  },
  {
   "cell_type": "code",
   "execution_count": 26,
   "metadata": {
    "collapsed": true
   },
   "outputs": [],
   "source": [
    "best_model_pred = []"
   ]
  },
  {
   "cell_type": "code",
   "execution_count": 27,
   "metadata": {},
   "outputs": [
    {
     "name": "stdout",
     "output_type": "stream",
     "text": [
      "Model name:  GridSearchCV(cv=None, error_score='raise',\n",
      "       estimator=LinearRegression(copy_X=True, fit_intercept=True, n_jobs=1, normalize=False),\n",
      "       fit_params=None, iid=True, n_jobs=1,\n",
      "       param_grid={'fit_intercept': [True, False]},\n",
      "       pre_dispatch='2*n_jobs', refit=True, return_train_score=True,\n",
      "       scoring=None, verbose=0)\n",
      "Accuracy:  1.0\n",
      "7+2+5 = 107687\n",
      "\n",
      "Model name:  GridSearchCV(cv=None, error_score='raise',\n",
      "       estimator=SVR(C=1.0, cache_size=200, coef0=0.0, degree=3, epsilon=0.1, gamma='auto',\n",
      "  kernel='rbf', max_iter=-1, shrinking=True, tol=0.001, verbose=False),\n",
      "       fit_params=None, iid=True, n_jobs=1,\n",
      "       param_grid={'kernel': ['linear', 'poly', 'rbf', 'sigmoid']},\n",
      "       pre_dispatch='2*n_jobs', refit=True, return_train_score=True,\n",
      "       scoring=None, verbose=0)\n",
      "Accuracy:  -0.0716616718317\n",
      "7+2+5 = 190584\n",
      "\n",
      "Model name:  GridSearchCV(cv=None, error_score='raise',\n",
      "       estimator=KNeighborsRegressor(algorithm='auto', leaf_size=30, metric='minkowski',\n",
      "          metric_params=None, n_jobs=1, n_neighbors=5, p=2,\n",
      "          weights='uniform'),\n",
      "       fit_params=None, iid=True, n_jobs=1,\n",
      "       param_grid={'n_neighbors': [1, 2], 'weights': ['uniform', 'distance']},\n",
      "       pre_dispatch='2*n_jobs', refit=True, return_train_score=True,\n",
      "       scoring=None, verbose=0)\n",
      "Accuracy:  1.0\n",
      "7+2+5 = 191991\n",
      "\n",
      "Model name:  GridSearchCV(cv=None, error_score='raise',\n",
      "       estimator=DecisionTreeRegressor(criterion='mse', max_depth=None, max_features=None,\n",
      "           max_leaf_nodes=None, min_impurity_decrease=0.0,\n",
      "           min_impurity_split=None, min_samples_leaf=1,\n",
      "           min_samples_split=2, min_weight_fraction_leaf=0.0,\n",
      "           presort=False, random_state=None, splitter='best'),\n",
      "       fit_params=None, iid=True, n_jobs=1,\n",
      "       param_grid={'criterion': ['mse', 'friedman_mse'], 'splitter': ['best', 'random'], 'min_samples_split': [2, 3, 4, 5]},\n",
      "       pre_dispatch='2*n_jobs', refit=True, return_train_score=True,\n",
      "       scoring=None, verbose=0)\n",
      "Accuracy:  1.0\n",
      "7+2+5 = 202541\n",
      "\n",
      "Model name:  GridSearchCV(cv=None, error_score='raise',\n",
      "       estimator=GradientBoostingRegressor(alpha=0.9, criterion='friedman_mse', init=None,\n",
      "             learning_rate=0.1, loss='ls', max_depth=3, max_features=None,\n",
      "             max_leaf_nodes=None, min_impurity_decrease=0.0,\n",
      "             min_impurity_split=None, min_samples_leaf=1,\n",
      "             min_samples_split=2, min_weight_fraction_leaf=0.0,\n",
      "             n_estimators=100, presort='auto', random_state=None,\n",
      "             subsample=1.0, verbose=0, warm_start=False),\n",
      "       fit_params=None, iid=True, n_jobs=1,\n",
      "       param_grid={'loss': ['ls', 'lad', 'huber', 'quantile']},\n",
      "       pre_dispatch='2*n_jobs', refit=True, return_train_score=True,\n",
      "       scoring=None, verbose=0)\n",
      "Accuracy:  0.999999999091\n",
      "7+2+5 = 196219\n",
      "\n",
      "Model name:  GridSearchCV(cv=None, error_score='raise',\n",
      "       estimator=GaussianProcessRegressor(alpha=1e-10, copy_X_train=True, kernel=None,\n",
      "             n_restarts_optimizer=0, normalize_y=False,\n",
      "             optimizer='fmin_l_bfgs_b', random_state=None),\n",
      "       fit_params=None, iid=True, n_jobs=1, param_grid={},\n",
      "       pre_dispatch='2*n_jobs', refit=True, return_train_score=True,\n",
      "       scoring=None, verbose=0)\n",
      "Accuracy:  1.0\n",
      "7+2+5 = 18908\n",
      "\n",
      "Model name:  GridSearchCV(cv=None, error_score='raise',\n",
      "       estimator=PLSRegression(copy=True, max_iter=500, n_components=2, scale=True, tol=1e-06),\n",
      "       fit_params=None, iid=True, n_jobs=1, param_grid={},\n",
      "       pre_dispatch='2*n_jobs', refit=True, return_train_score=True,\n",
      "       scoring=None, verbose=0)\n",
      "Accuracy:  0.999993453758\n",
      "7+2+5 = 107634\n",
      "\n",
      "Model name:  GridSearchCV(cv=None, error_score='raise',\n",
      "       estimator=AdaBoostRegressor(base_estimator=None, learning_rate=1.0, loss='linear',\n",
      "         n_estimators=50, random_state=None),\n",
      "       fit_params=None, iid=True, n_jobs=1, param_grid={},\n",
      "       pre_dispatch='2*n_jobs', refit=True, return_train_score=True,\n",
      "       scoring=None, verbose=0)\n",
      "Accuracy:  1.0\n",
      "7+2+5 = 183652\n",
      "\n"
     ]
    },
    {
     "name": "stderr",
     "output_type": "stream",
     "text": [
      "/home/greed/anaconda3/lib/python3.6/site-packages/sklearn/cross_decomposition/pls_.py:287: UserWarning: Y residual constant at iteration 1\n",
      "  warnings.warn('Y residual constant at iteration %s' % k)\n"
     ]
    }
   ],
   "source": [
    "for model in models:\n",
    "    regressor = model[0]\n",
    "    param_grid = model[1]\n",
    "    model = GridSearchCV(regressor, param_grid)\n",
    "    model.fit(X_train, y_train)\n",
    "    accuracy = model.score(X_train, y_train)\n",
    "    print('Model name: ', model)\n",
    "    print('Accuracy: ',accuracy)\n",
    "    print(\"7+2+5 = %d\\n\" % model.predict([[7,2,5]]))\n",
    "    if accuracy == 1:\n",
    "        best_model_pred.append(\"7+2+5 = %d\\n\" % model.predict([[7,2,5]]))"
   ]
  },
  {
   "cell_type": "code",
   "execution_count": 28,
   "metadata": {},
   "outputs": [
    {
     "data": {
      "text/plain": [
       "['7+2+5 = 107687\\n',\n",
       " '7+2+5 = 191991\\n',\n",
       " '7+2+5 = 202541\\n',\n",
       " '7+2+5 = 18908\\n',\n",
       " '7+2+5 = 183652\\n']"
      ]
     },
     "execution_count": 28,
     "metadata": {},
     "output_type": "execute_result"
    }
   ],
   "source": [
    "best_model_pred"
   ]
  }
 ],
 "metadata": {
  "kernelspec": {
   "display_name": "Python 3",
   "language": "python",
   "name": "python3"
  },
  "language_info": {
   "codemirror_mode": {
    "name": "ipython",
    "version": 3
   },
   "file_extension": ".py",
   "mimetype": "text/x-python",
   "name": "python",
   "nbconvert_exporter": "python",
   "pygments_lexer": "ipython3",
   "version": "3.6.1"
  }
 },
 "nbformat": 4,
 "nbformat_minor": 2
}
