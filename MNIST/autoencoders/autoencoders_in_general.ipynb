{
 "cells": [
  {
   "cell_type": "code",
   "execution_count": 36,
   "metadata": {},
   "outputs": [],
   "source": [
    "from keras.datasets import mnist\n",
    "from keras.models import Model, Sequential\n",
    "from keras.layers import Input, Dense, Conv2D, MaxPooling2D, UpSampling2D, Flatten, Reshape\n",
    "from keras import regularizers\n",
    "from keras.callbacks import TensorBoard\n",
    "\n",
    "from IPython.display import Image, SVG\n",
    "import matplotlib.pyplot as plt\n",
    "%matplotlib inline\n",
    "import numpy as np\n",
    "\n",
    "from time import time"
   ]
  },
  {
   "cell_type": "code",
   "execution_count": 37,
   "metadata": {},
   "outputs": [],
   "source": [
    "# Loads the training and test data sets (ignoring class labels)\n",
    "(x_train, _), (x_test, _) = mnist.load_data()\n",
    "\n",
    "# Scales the training and test data to range between 0 and 1.\n",
    "max_value = float(x_train.max())\n",
    "x_train = x_train.astype('float32') / max_value\n",
    "x_test = x_test.astype('float32') / max_value"
   ]
  },
  {
   "cell_type": "code",
   "execution_count": 38,
   "metadata": {},
   "outputs": [
    {
     "data": {
      "text/plain": [
       "((60000, 28, 28), (10000, 28, 28))"
      ]
     },
     "execution_count": 38,
     "metadata": {},
     "output_type": "execute_result"
    }
   ],
   "source": [
    "x_train.shape, x_test.shape"
   ]
  },
  {
   "cell_type": "code",
   "execution_count": 39,
   "metadata": {},
   "outputs": [
    {
     "data": {
      "text/plain": [
       "((60000, 784), (10000, 784))"
      ]
     },
     "execution_count": 39,
     "metadata": {},
     "output_type": "execute_result"
    }
   ],
   "source": [
    "x_train = x_train.reshape((len(x_train), np.prod(x_train.shape[1:])))\n",
    "x_test = x_test.reshape((len(x_test), np.prod(x_test.shape[1:])))\n",
    "\n",
    "(x_train.shape, x_test.shape)"
   ]
  },
  {
   "cell_type": "markdown",
   "metadata": {},
   "source": [
    "Simple Autoencoder"
   ]
  },
  {
   "cell_type": "code",
   "execution_count": 49,
   "metadata": {},
   "outputs": [
    {
     "name": "stdout",
     "output_type": "stream",
     "text": [
      "Compression factor: 24.5\n",
      "_________________________________________________________________\n",
      "Layer (type)                 Output Shape              Param #   \n",
      "=================================================================\n",
      "dense_9 (Dense)              (None, 32)                25120     \n",
      "_________________________________________________________________\n",
      "dense_10 (Dense)             (None, 784)               25872     \n",
      "=================================================================\n",
      "Total params: 50,992\n",
      "Trainable params: 50,992\n",
      "Non-trainable params: 0\n",
      "_________________________________________________________________\n"
     ]
    }
   ],
   "source": [
    "# input dimension = 784\n",
    "input_dim = x_train.shape[1]\n",
    "encoding_dim = 32\n",
    "\n",
    "compression_factor = float(input_dim) / encoding_dim\n",
    "print(\"Compression factor: %s\" % compression_factor)\n",
    "\n",
    "autoencoder = Sequential()\n",
    "autoencoder.add(Dense(encoding_dim, input_shape=(input_dim,), activation='relu'))\n",
    "autoencoder.add(Dense(input_dim, activation='sigmoid'))\n",
    "\n",
    "autoencoder.summary()"
   ]
  },
  {
   "cell_type": "code",
   "execution_count": 50,
   "metadata": {},
   "outputs": [
    {
     "name": "stdout",
     "output_type": "stream",
     "text": [
      "_________________________________________________________________\n",
      "Layer (type)                 Output Shape              Param #   \n",
      "=================================================================\n",
      "input_5 (InputLayer)         (None, 784)               0         \n",
      "_________________________________________________________________\n",
      "dense_9 (Dense)              (None, 32)                25120     \n",
      "=================================================================\n",
      "Total params: 25,120\n",
      "Trainable params: 25,120\n",
      "Non-trainable params: 0\n",
      "_________________________________________________________________\n"
     ]
    }
   ],
   "source": [
    "# visualisation of the representation\n",
    "\n",
    "input_img = Input(shape=(input_dim,))\n",
    "encoder_layer = autoencoder.layers[0]\n",
    "encoder = Model(input_img, encoder_layer(input_img))\n",
    "\n",
    "encoder.summary()"
   ]
  },
  {
   "cell_type": "code",
   "execution_count": 51,
   "metadata": {
    "scrolled": true
   },
   "outputs": [
    {
     "name": "stdout",
     "output_type": "stream",
     "text": [
      "Train on 60000 samples, validate on 10000 samples\n",
      "Epoch 1/50\n",
      "60000/60000 [==============================] - 1s 24us/step - loss: 0.2808 - val_loss: 0.1898\n",
      "Epoch 2/50\n",
      "60000/60000 [==============================] - 1s 20us/step - loss: 0.1705 - val_loss: 0.1535\n",
      "Epoch 3/50\n",
      "60000/60000 [==============================] - 2s 26us/step - loss: 0.1445 - val_loss: 0.1327\n",
      "Epoch 4/50\n",
      "60000/60000 [==============================] - 1s 25us/step - loss: 0.1268 - val_loss: 0.1193\n",
      "Epoch 5/50\n",
      "60000/60000 [==============================] - 1s 23us/step - loss: 0.1165 - val_loss: 0.1113\n",
      "Epoch 6/50\n",
      "60000/60000 [==============================] - 1s 19us/step - loss: 0.1095 - val_loss: 0.1054\n",
      "Epoch 7/50\n",
      "60000/60000 [==============================] - 1s 20us/step - loss: 0.1045 - val_loss: 0.1012\n",
      "Epoch 8/50\n",
      "60000/60000 [==============================] - 1s 21us/step - loss: 0.1009 - val_loss: 0.0982\n",
      "Epoch 9/50\n",
      "60000/60000 [==============================] - 1s 20us/step - loss: 0.0985 - val_loss: 0.0962\n",
      "Epoch 10/50\n",
      "60000/60000 [==============================] - 1s 18us/step - loss: 0.0969 - val_loss: 0.0949\n",
      "Epoch 11/50\n",
      "60000/60000 [==============================] - 1s 18us/step - loss: 0.0958 - val_loss: 0.0940\n",
      "Epoch 12/50\n",
      "60000/60000 [==============================] - 1s 18us/step - loss: 0.0951 - val_loss: 0.0934\n",
      "Epoch 13/50\n",
      "60000/60000 [==============================] - 1s 18us/step - loss: 0.0946 - val_loss: 0.0931\n",
      "Epoch 14/50\n",
      "60000/60000 [==============================] - 1s 18us/step - loss: 0.0942 - val_loss: 0.0928\n",
      "Epoch 15/50\n",
      "60000/60000 [==============================] - 1s 18us/step - loss: 0.0939 - val_loss: 0.0925\n",
      "Epoch 16/50\n",
      "60000/60000 [==============================] - 1s 18us/step - loss: 0.0937 - val_loss: 0.0923\n",
      "Epoch 17/50\n",
      "60000/60000 [==============================] - 1s 18us/step - loss: 0.0936 - val_loss: 0.0922\n",
      "Epoch 18/50\n",
      "60000/60000 [==============================] - 1s 17us/step - loss: 0.0935 - val_loss: 0.0922\n",
      "Epoch 19/50\n",
      "60000/60000 [==============================] - 1s 18us/step - loss: 0.0934 - val_loss: 0.0921\n",
      "Epoch 20/50\n",
      "60000/60000 [==============================] - 1s 18us/step - loss: 0.0933 - val_loss: 0.0922\n",
      "Epoch 21/50\n",
      "60000/60000 [==============================] - 1s 18us/step - loss: 0.0932 - val_loss: 0.0920\n",
      "Epoch 22/50\n",
      "60000/60000 [==============================] - 1s 17us/step - loss: 0.0931 - val_loss: 0.0919\n",
      "Epoch 23/50\n",
      "60000/60000 [==============================] - 1s 18us/step - loss: 0.0931 - val_loss: 0.0919\n",
      "Epoch 24/50\n",
      "60000/60000 [==============================] - 1s 18us/step - loss: 0.0930 - val_loss: 0.0918\n",
      "Epoch 25/50\n",
      "60000/60000 [==============================] - 1s 18us/step - loss: 0.0930 - val_loss: 0.0917\n",
      "Epoch 26/50\n",
      "60000/60000 [==============================] - 1s 18us/step - loss: 0.0930 - val_loss: 0.0917\n",
      "Epoch 27/50\n",
      "60000/60000 [==============================] - 1s 18us/step - loss: 0.0929 - val_loss: 0.0917\n",
      "Epoch 28/50\n",
      "60000/60000 [==============================] - 1s 18us/step - loss: 0.0929 - val_loss: 0.0917\n",
      "Epoch 29/50\n",
      "60000/60000 [==============================] - 1s 19us/step - loss: 0.0929 - val_loss: 0.0917\n",
      "Epoch 30/50\n",
      "60000/60000 [==============================] - 1s 18us/step - loss: 0.0929 - val_loss: 0.0916\n",
      "Epoch 31/50\n",
      "60000/60000 [==============================] - 1s 18us/step - loss: 0.0928 - val_loss: 0.0916\n",
      "Epoch 32/50\n",
      "60000/60000 [==============================] - 1s 18us/step - loss: 0.0928 - val_loss: 0.0916\n",
      "Epoch 33/50\n",
      "60000/60000 [==============================] - 1s 18us/step - loss: 0.0928 - val_loss: 0.0916\n",
      "Epoch 34/50\n",
      "60000/60000 [==============================] - 1s 18us/step - loss: 0.0928 - val_loss: 0.0916\n",
      "Epoch 35/50\n",
      "60000/60000 [==============================] - 1s 20us/step - loss: 0.0927 - val_loss: 0.0915\n",
      "Epoch 36/50\n",
      "60000/60000 [==============================] - 1s 18us/step - loss: 0.0927 - val_loss: 0.0916\n",
      "Epoch 37/50\n",
      "60000/60000 [==============================] - 1s 18us/step - loss: 0.0927 - val_loss: 0.0917\n",
      "Epoch 38/50\n",
      "60000/60000 [==============================] - 1s 20us/step - loss: 0.0927 - val_loss: 0.0915\n",
      "Epoch 39/50\n",
      "60000/60000 [==============================] - 1s 19us/step - loss: 0.0927 - val_loss: 0.0915\n",
      "Epoch 40/50\n",
      "60000/60000 [==============================] - 1s 18us/step - loss: 0.0927 - val_loss: 0.0915\n",
      "Epoch 41/50\n",
      "60000/60000 [==============================] - 1s 19us/step - loss: 0.0927 - val_loss: 0.0916\n",
      "Epoch 42/50\n",
      "60000/60000 [==============================] - 1s 18us/step - loss: 0.0927 - val_loss: 0.0916\n",
      "Epoch 43/50\n",
      "60000/60000 [==============================] - 1s 19us/step - loss: 0.0926 - val_loss: 0.0915\n",
      "Epoch 44/50\n",
      "60000/60000 [==============================] - 1s 18us/step - loss: 0.0926 - val_loss: 0.0915\n",
      "Epoch 45/50\n",
      "60000/60000 [==============================] - 1s 18us/step - loss: 0.0926 - val_loss: 0.0914\n",
      "Epoch 46/50\n",
      "60000/60000 [==============================] - 1s 19us/step - loss: 0.0926 - val_loss: 0.0915\n",
      "Epoch 47/50\n",
      "60000/60000 [==============================] - 1s 20us/step - loss: 0.0926 - val_loss: 0.0915\n",
      "Epoch 48/50\n",
      "60000/60000 [==============================] - 2s 26us/step - loss: 0.0926 - val_loss: 0.0915\n",
      "Epoch 49/50\n",
      "60000/60000 [==============================] - 1s 22us/step - loss: 0.0926 - val_loss: 0.0914\n",
      "Epoch 50/50\n",
      "60000/60000 [==============================] - 2s 29us/step - loss: 0.0926 - val_loss: 0.0914\n"
     ]
    }
   ],
   "source": [
    "tb_callback = TensorBoard(log_dir='./logs/{}'.format(time()), histogram_freq=0, write_graph=True, write_images=True)\n",
    "autoencoder.compile(optimizer='adam', loss='binary_crossentropy')\n",
    "history = autoencoder.fit(x_train, x_train,\n",
    "                          epochs=50,\n",
    "                          batch_size=256,\n",
    "                          shuffle=True,\n",
    "                          validation_data=(x_test, x_test),\n",
    "                          callbacks=[tb_callback])"
   ]
  },
  {
   "cell_type": "code",
   "execution_count": 52,
   "metadata": {},
   "outputs": [
    {
     "data": {
      "image/png": "[encoded data removed]",
      "text/plain": [
       "<Figure size 1296x288 with 30 Axes>"
      ]
     },
     "metadata": {
      "needs_background": "light"
     },
     "output_type": "display_data"
    }
   ],
   "source": [
    "num_images = 10\n",
    "np.random.seed(1234)\n",
    "random_test_images = np.random.randint(x_test.shape[0], size=num_images)\n",
    "\n",
    "encoded_imgs = encoder.predict(x_test)\n",
    "decoded_imgs = autoencoder.predict(x_test)\n",
    "\n",
    "plt.figure(figsize=(18, 4))\n",
    "\n",
    "for i, image_idx in enumerate(random_test_images):\n",
    "    # plot original image\n",
    "    ax = plt.subplot(3, num_images, i + 1)\n",
    "    plt.imshow(x_test[image_idx].reshape(28, 28))\n",
    "    plt.gray()\n",
    "    ax.get_xaxis().set_visible(False)\n",
    "    ax.get_yaxis().set_visible(False)\n",
    "    \n",
    "    # plot encoded image\n",
    "    ax = plt.subplot(3, num_images, num_images + i + 1)\n",
    "    plt.imshow(encoded_imgs[image_idx].reshape(8, 4))\n",
    "    plt.gray()\n",
    "    ax.get_xaxis().set_visible(False)\n",
    "    ax.get_yaxis().set_visible(False)\n",
    "\n",
    "    # plot reconstructed image\n",
    "    ax = plt.subplot(3, num_images, 2*num_images + i + 1)\n",
    "    plt.imshow(decoded_imgs[image_idx].reshape(28, 28))\n",
    "    plt.gray()\n",
    "    ax.get_xaxis().set_visible(False)\n",
    "    ax.get_yaxis().set_visible(False)\n",
    "plt.show()"
   ]
  },
  {
   "cell_type": "markdown",
   "metadata": {},
   "source": [
    "Deep Autoencoder"
   ]
  },
  {
   "cell_type": "code",
   "execution_count": 53,
   "metadata": {},
   "outputs": [
    {
     "name": "stdout",
     "output_type": "stream",
     "text": [
      "_________________________________________________________________\n",
      "Layer (type)                 Output Shape              Param #   \n",
      "=================================================================\n",
      "dense_11 (Dense)             (None, 128)               100480    \n",
      "_________________________________________________________________\n",
      "dense_12 (Dense)             (None, 64)                8256      \n",
      "_________________________________________________________________\n",
      "dense_13 (Dense)             (None, 32)                2080      \n",
      "_________________________________________________________________\n",
      "dense_14 (Dense)             (None, 64)                2112      \n",
      "_________________________________________________________________\n",
      "dense_15 (Dense)             (None, 128)               8320      \n",
      "_________________________________________________________________\n",
      "dense_16 (Dense)             (None, 784)               101136    \n",
      "=================================================================\n",
      "Total params: 222,384\n",
      "Trainable params: 222,384\n",
      "Non-trainable params: 0\n",
      "_________________________________________________________________\n"
     ]
    }
   ],
   "source": [
    "autoencoder = Sequential()\n",
    "\n",
    "# Encoder Layers\n",
    "autoencoder.add(Dense(4 * encoding_dim, input_shape=(input_dim,), activation='relu'))\n",
    "autoencoder.add(Dense(2 * encoding_dim, activation='relu'))\n",
    "autoencoder.add(Dense(encoding_dim, activation='relu'))\n",
    "\n",
    "# Decoder Layers\n",
    "autoencoder.add(Dense(2 * encoding_dim, activation='relu'))\n",
    "autoencoder.add(Dense(4 * encoding_dim, activation='relu'))\n",
    "autoencoder.add(Dense(input_dim, activation='sigmoid'))\n",
    "\n",
    "autoencoder.summary()"
   ]
  },
  {
   "cell_type": "code",
   "execution_count": 54,
   "metadata": {},
   "outputs": [
    {
     "name": "stdout",
     "output_type": "stream",
     "text": [
      "_________________________________________________________________\n",
      "Layer (type)                 Output Shape              Param #   \n",
      "=================================================================\n",
      "input_6 (InputLayer)         (None, 784)               0         \n",
      "_________________________________________________________________\n",
      "dense_11 (Dense)             (None, 128)               100480    \n",
      "_________________________________________________________________\n",
      "dense_12 (Dense)             (None, 64)                8256      \n",
      "_________________________________________________________________\n",
      "dense_13 (Dense)             (None, 32)                2080      \n",
      "=================================================================\n",
      "Total params: 110,816\n",
      "Trainable params: 110,816\n",
      "Non-trainable params: 0\n",
      "_________________________________________________________________\n"
     ]
    }
   ],
   "source": [
    "input_img = Input(shape=(input_dim,))\n",
    "encoder_layer1 = autoencoder.layers[0]\n",
    "encoder_layer2 = autoencoder.layers[1]\n",
    "encoder_layer3 = autoencoder.layers[2]\n",
    "encoder = Model(input_img, encoder_layer3(encoder_layer2(encoder_layer1(input_img))))\n",
    "\n",
    "encoder.summary()"
   ]
  },
  {
   "cell_type": "code",
   "execution_count": 55,
   "metadata": {
    "scrolled": true
   },
   "outputs": [
    {
     "name": "stdout",
     "output_type": "stream",
     "text": [
      "Train on 60000 samples, validate on 10000 samples\n",
      "Epoch 1/50\n",
      "60000/60000 [==============================] - 2s 32us/step - loss: 0.2446 - val_loss: 0.1678\n",
      "Epoch 2/50\n",
      "60000/60000 [==============================] - 2s 26us/step - loss: 0.1512 - val_loss: 0.1373\n",
      "Epoch 3/50\n",
      "60000/60000 [==============================] - 2s 31us/step - loss: 0.1289 - val_loss: 0.1214\n",
      "Epoch 4/50\n",
      "60000/60000 [==============================] - 2s 35us/step - loss: 0.1195 - val_loss: 0.1150\n",
      "Epoch 5/50\n",
      "60000/60000 [==============================] - 2s 28us/step - loss: 0.1143 - val_loss: 0.1106\n",
      "Epoch 6/50\n",
      "60000/60000 [==============================] - 1s 23us/step - loss: 0.1101 - val_loss: 0.1078\n",
      "Epoch 7/50\n",
      "60000/60000 [==============================] - 1s 22us/step - loss: 0.1072 - val_loss: 0.1047\n",
      "Epoch 8/50\n",
      "60000/60000 [==============================] - 1s 23us/step - loss: 0.1050 - val_loss: 0.1029\n",
      "Epoch 9/50\n",
      "60000/60000 [==============================] - 1s 22us/step - loss: 0.1031 - val_loss: 0.1014\n",
      "Epoch 10/50\n",
      "60000/60000 [==============================] - 1s 22us/step - loss: 0.1015 - val_loss: 0.0994\n",
      "Epoch 11/50\n",
      "60000/60000 [==============================] - 1s 23us/step - loss: 0.0999 - val_loss: 0.0982\n",
      "Epoch 12/50\n",
      "60000/60000 [==============================] - 1s 24us/step - loss: 0.0986 - val_loss: 0.0968\n",
      "Epoch 13/50\n",
      "60000/60000 [==============================] - 1s 22us/step - loss: 0.0974 - val_loss: 0.0958\n",
      "Epoch 14/50\n",
      "60000/60000 [==============================] - 1s 22us/step - loss: 0.0963 - val_loss: 0.0949\n",
      "Epoch 15/50\n",
      "60000/60000 [==============================] - 1s 23us/step - loss: 0.0954 - val_loss: 0.0942\n",
      "Epoch 16/50\n",
      "60000/60000 [==============================] - 1s 23us/step - loss: 0.0945 - val_loss: 0.0931\n",
      "Epoch 17/50\n",
      "60000/60000 [==============================] - 2s 29us/step - loss: 0.0937 - val_loss: 0.0924\n",
      "Epoch 18/50\n",
      "60000/60000 [==============================] - 2s 29us/step - loss: 0.0930 - val_loss: 0.0918\n",
      "Epoch 19/50\n",
      "60000/60000 [==============================] - 2s 36us/step - loss: 0.0924 - val_loss: 0.0912\n",
      "Epoch 20/50\n",
      "60000/60000 [==============================] - 2s 33us/step - loss: 0.0917 - val_loss: 0.0907\n",
      "Epoch 21/50\n",
      "60000/60000 [==============================] - 2s 33us/step - loss: 0.0912 - val_loss: 0.0899\n",
      "Epoch 22/50\n",
      "60000/60000 [==============================] - 1s 24us/step - loss: 0.0906 - val_loss: 0.0895\n",
      "Epoch 23/50\n",
      "60000/60000 [==============================] - 1s 24us/step - loss: 0.0901 - val_loss: 0.0892\n",
      "Epoch 24/50\n",
      "60000/60000 [==============================] - 1s 23us/step - loss: 0.0896 - val_loss: 0.0885\n",
      "Epoch 25/50\n",
      "60000/60000 [==============================] - 1s 22us/step - loss: 0.0891 - val_loss: 0.0885\n",
      "Epoch 26/50\n",
      "60000/60000 [==============================] - 1s 23us/step - loss: 0.0887 - val_loss: 0.0880\n",
      "Epoch 27/50\n",
      "60000/60000 [==============================] - 1s 23us/step - loss: 0.0883 - val_loss: 0.0872\n",
      "Epoch 28/50\n",
      "60000/60000 [==============================] - 1s 25us/step - loss: 0.0879 - val_loss: 0.0870\n",
      "Epoch 29/50\n",
      "60000/60000 [==============================] - 2s 31us/step - loss: 0.0875 - val_loss: 0.0867\n",
      "Epoch 30/50\n",
      "60000/60000 [==============================] - 1s 24us/step - loss: 0.0872 - val_loss: 0.0865\n",
      "Epoch 31/50\n",
      "60000/60000 [==============================] - 1s 24us/step - loss: 0.0870 - val_loss: 0.0864\n",
      "Epoch 32/50\n",
      "60000/60000 [==============================] - 1s 23us/step - loss: 0.0867 - val_loss: 0.0860\n",
      "Epoch 33/50\n",
      "60000/60000 [==============================] - 2s 32us/step - loss: 0.0865 - val_loss: 0.0861\n",
      "Epoch 34/50\n",
      "60000/60000 [==============================] - 2s 31us/step - loss: 0.0862 - val_loss: 0.0855\n",
      "Epoch 35/50\n",
      "60000/60000 [==============================] - 2s 29us/step - loss: 0.0860 - val_loss: 0.0851\n",
      "Epoch 36/50\n",
      "60000/60000 [==============================] - 2s 28us/step - loss: 0.0857 - val_loss: 0.0852\n",
      "Epoch 37/50\n",
      "60000/60000 [==============================] - 2s 29us/step - loss: 0.0856 - val_loss: 0.0850\n",
      "Epoch 38/50\n",
      "60000/60000 [==============================] - 2s 25us/step - loss: 0.0853 - val_loss: 0.0848\n",
      "Epoch 39/50\n",
      "60000/60000 [==============================] - 2s 29us/step - loss: 0.0852 - val_loss: 0.0846\n",
      "Epoch 40/50\n",
      "60000/60000 [==============================] - 2s 28us/step - loss: 0.0850 - val_loss: 0.0846\n",
      "Epoch 41/50\n",
      "60000/60000 [==============================] - 1s 23us/step - loss: 0.0848 - val_loss: 0.0843\n",
      "Epoch 42/50\n",
      "60000/60000 [==============================] - 2s 26us/step - loss: 0.0848 - val_loss: 0.0844\n",
      "Epoch 43/50\n",
      "60000/60000 [==============================] - 2s 27us/step - loss: 0.0845 - val_loss: 0.0841\n",
      "Epoch 44/50\n",
      "60000/60000 [==============================] - 1s 24us/step - loss: 0.0844 - val_loss: 0.0838\n",
      "Epoch 45/50\n",
      "60000/60000 [==============================] - 2s 35us/step - loss: 0.0843 - val_loss: 0.0837\n",
      "Epoch 46/50\n",
      "60000/60000 [==============================] - 2s 40us/step - loss: 0.0842 - val_loss: 0.0835\n",
      "Epoch 47/50\n",
      "60000/60000 [==============================] - 2s 31us/step - loss: 0.0840 - val_loss: 0.0839\n",
      "Epoch 48/50\n",
      "60000/60000 [==============================] - 2s 26us/step - loss: 0.0840 - val_loss: 0.0835\n",
      "Epoch 49/50\n",
      "60000/60000 [==============================] - 2s 26us/step - loss: 0.0839 - val_loss: 0.0835\n",
      "Epoch 50/50\n",
      "60000/60000 [==============================] - 1s 25us/step - loss: 0.0838 - val_loss: 0.0833\n"
     ]
    },
    {
     "data": {
      "text/plain": [
       "<keras.callbacks.History at 0x26013f9d048>"
      ]
     },
     "execution_count": 55,
     "metadata": {},
     "output_type": "execute_result"
    }
   ],
   "source": [
    "tb_callback = TensorBoard(log_dir='./logs/{}'.format(time()), histogram_freq=0, write_graph=True, write_images=True)\n",
    "autoencoder.compile(optimizer='adam', loss='binary_crossentropy')\n",
    "autoencoder.fit(x_train, x_train,\n",
    "                epochs=50,\n",
    "                batch_size=256,\n",
    "                validation_data=(x_test, x_test),\n",
    "                callbacks=[tb_callback])"
   ]
  },
  {
   "cell_type": "code",
   "execution_count": 56,
   "metadata": {},
   "outputs": [
    {
     "data": {
      "text/plain": [
       "{'batch_size': 256,\n",
       " 'do_validation': True,\n",
       " 'epochs': 50,\n",
       " 'metrics': ['loss', 'val_loss'],\n",
       " 'samples': 60000,\n",
       " 'steps': None,\n",
       " 'verbose': 1}"
      ]
     },
     "execution_count": 56,
     "metadata": {},
     "output_type": "execute_result"
    }
   ],
   "source": [
    "history.params"
   ]
  },
  {
   "cell_type": "code",
   "execution_count": 57,
   "metadata": {},
   "outputs": [
    {
     "data": {
      "image/png": "[encoded data removed]",
      "text/plain": [
       "<Figure size 1296x288 with 30 Axes>"
      ]
     },
     "metadata": {
      "needs_background": "light"
     },
     "output_type": "display_data"
    }
   ],
   "source": [
    "num_images = 10\n",
    "np.random.seed(1234)\n",
    "random_test_images = np.random.randint(x_test.shape[0], size=num_images)\n",
    "\n",
    "encoded_imgs = encoder.predict(x_test)\n",
    "decoded_imgs = autoencoder.predict(x_test)\n",
    "\n",
    "plt.figure(figsize=(18, 4))\n",
    "\n",
    "for i, image_idx in enumerate(random_test_images):\n",
    "    # plot original image\n",
    "    ax = plt.subplot(3, num_images, i + 1)\n",
    "    plt.imshow(x_test[image_idx].reshape(28, 28))\n",
    "    plt.gray()\n",
    "    ax.get_xaxis().set_visible(False)\n",
    "    ax.get_yaxis().set_visible(False)\n",
    "    \n",
    "    # plot encoded image\n",
    "    ax = plt.subplot(3, num_images, num_images + i + 1)\n",
    "    plt.imshow(encoded_imgs[image_idx].reshape(8, 4))\n",
    "    plt.gray()\n",
    "    ax.get_xaxis().set_visible(False)\n",
    "    ax.get_yaxis().set_visible(False)\n",
    "\n",
    "    # plot reconstructed image\n",
    "    ax = plt.subplot(3, num_images, 2*num_images + i + 1)\n",
    "    plt.imshow(decoded_imgs[image_idx].reshape(28, 28))\n",
    "    plt.gray()\n",
    "    ax.get_xaxis().set_visible(False)\n",
    "    ax.get_yaxis().set_visible(False)\n",
    "plt.show()"
   ]
  },
  {
   "cell_type": "markdown",
   "metadata": {},
   "source": [
    "Convolutional Autoencoders"
   ]
  },
  {
   "cell_type": "code",
   "execution_count": 58,
   "metadata": {},
   "outputs": [],
   "source": [
    "x_train = x_train.reshape((len(x_train), 28, 28, 1))\n",
    "x_test = x_test.reshape((len(x_test), 28, 28, 1))"
   ]
  },
  {
   "cell_type": "code",
   "execution_count": 59,
   "metadata": {},
   "outputs": [
    {
     "name": "stdout",
     "output_type": "stream",
     "text": [
      "_________________________________________________________________\n",
      "Layer (type)                 Output Shape              Param #   \n",
      "=================================================================\n",
      "conv2d_1 (Conv2D)            (None, 28, 28, 16)        160       \n",
      "_________________________________________________________________\n",
      "max_pooling2d_1 (MaxPooling2 (None, 14, 14, 16)        0         \n",
      "_________________________________________________________________\n",
      "conv2d_2 (Conv2D)            (None, 14, 14, 8)         1160      \n",
      "_________________________________________________________________\n",
      "max_pooling2d_2 (MaxPooling2 (None, 7, 7, 8)           0         \n",
      "_________________________________________________________________\n",
      "conv2d_3 (Conv2D)            (None, 4, 4, 8)           584       \n",
      "_________________________________________________________________\n",
      "flatten_1 (Flatten)          (None, 128)               0         \n",
      "_________________________________________________________________\n",
      "reshape_1 (Reshape)          (None, 4, 4, 8)           0         \n",
      "_________________________________________________________________\n",
      "conv2d_4 (Conv2D)            (None, 4, 4, 8)           584       \n",
      "_________________________________________________________________\n",
      "up_sampling2d_1 (UpSampling2 (None, 8, 8, 8)           0         \n",
      "_________________________________________________________________\n",
      "conv2d_5 (Conv2D)            (None, 8, 8, 8)           584       \n",
      "_________________________________________________________________\n",
      "up_sampling2d_2 (UpSampling2 (None, 16, 16, 8)         0         \n",
      "_________________________________________________________________\n",
      "conv2d_6 (Conv2D)            (None, 14, 14, 16)        1168      \n",
      "_________________________________________________________________\n",
      "up_sampling2d_3 (UpSampling2 (None, 28, 28, 16)        0         \n",
      "_________________________________________________________________\n",
      "conv2d_7 (Conv2D)            (None, 28, 28, 1)         145       \n",
      "=================================================================\n",
      "Total params: 4,385\n",
      "Trainable params: 4,385\n",
      "Non-trainable params: 0\n",
      "_________________________________________________________________\n"
     ]
    }
   ],
   "source": [
    "autoencoder = Sequential()\n",
    "\n",
    "# Encoder Layers\n",
    "autoencoder.add(Conv2D(16, (3, 3), activation='relu', padding='same', input_shape=x_train.shape[1:]))\n",
    "autoencoder.add(MaxPooling2D((2, 2), padding='same'))\n",
    "autoencoder.add(Conv2D(8, (3, 3), activation='relu', padding='same'))\n",
    "autoencoder.add(MaxPooling2D((2, 2), padding='same'))\n",
    "autoencoder.add(Conv2D(8, (3, 3), strides=(2,2), activation='relu', padding='same'))\n",
    "\n",
    "# Flatten encoding for visualization\n",
    "autoencoder.add(Flatten())\n",
    "autoencoder.add(Reshape((4, 4, 8)))\n",
    "\n",
    "# Decoder Layers\n",
    "autoencoder.add(Conv2D(8, (3, 3), activation='relu', padding='same'))\n",
    "autoencoder.add(UpSampling2D((2, 2)))\n",
    "autoencoder.add(Conv2D(8, (3, 3), activation='relu', padding='same'))\n",
    "autoencoder.add(UpSampling2D((2, 2)))\n",
    "autoencoder.add(Conv2D(16, (3, 3), activation='relu'))\n",
    "autoencoder.add(UpSampling2D((2, 2)))\n",
    "autoencoder.add(Conv2D(1, (3, 3), activation='sigmoid', padding='same'))\n",
    "\n",
    "autoencoder.summary()"
   ]
  },
  {
   "cell_type": "code",
   "execution_count": 60,
   "metadata": {},
   "outputs": [
    {
     "name": "stdout",
     "output_type": "stream",
     "text": [
      "_________________________________________________________________\n",
      "Layer (type)                 Output Shape              Param #   \n",
      "=================================================================\n",
      "conv2d_1_input (InputLayer)  (None, 28, 28, 1)         0         \n",
      "_________________________________________________________________\n",
      "conv2d_1 (Conv2D)            (None, 28, 28, 16)        160       \n",
      "_________________________________________________________________\n",
      "max_pooling2d_1 (MaxPooling2 (None, 14, 14, 16)        0         \n",
      "_________________________________________________________________\n",
      "conv2d_2 (Conv2D)            (None, 14, 14, 8)         1160      \n",
      "_________________________________________________________________\n",
      "max_pooling2d_2 (MaxPooling2 (None, 7, 7, 8)           0         \n",
      "_________________________________________________________________\n",
      "conv2d_3 (Conv2D)            (None, 4, 4, 8)           584       \n",
      "_________________________________________________________________\n",
      "flatten_1 (Flatten)          (None, 128)               0         \n",
      "=================================================================\n",
      "Total params: 1,904\n",
      "Trainable params: 1,904\n",
      "Non-trainable params: 0\n",
      "_________________________________________________________________\n"
     ]
    }
   ],
   "source": [
    "encoder = Model(inputs=autoencoder.input, outputs=autoencoder.get_layer('flatten_1').output)\n",
    "encoder.summary()"
   ]
  },
  {
   "cell_type": "code",
   "execution_count": 61,
   "metadata": {},
   "outputs": [
    {
     "name": "stdout",
     "output_type": "stream",
     "text": [
      "Train on 60000 samples, validate on 10000 samples\n",
      "Epoch 1/100\n",
      "60000/60000 [==============================] - 8s 139us/step - loss: 0.2000 - val_loss: 0.1314\n",
      "Epoch 2/100\n",
      "60000/60000 [==============================] - 6s 102us/step - loss: 0.1230 - val_loss: 0.1155\n",
      "Epoch 3/100\n",
      "60000/60000 [==============================] - 6s 93us/step - loss: 0.1127 - val_loss: 0.1087\n",
      "Epoch 4/100\n",
      "60000/60000 [==============================] - 7s 113us/step - loss: 0.1076 - val_loss: 0.1053.1\n",
      "Epoch 5/100\n",
      "60000/60000 [==============================] - 6s 97us/step - loss: 0.1041 - val_loss: 0.1017\n",
      "Epoch 6/100\n",
      "60000/60000 [==============================] - 6s 104us/step - loss: 0.1015 - val_loss: 0.0992\n",
      "Epoch 7/100\n",
      "60000/60000 [==============================] - 6s 108us/step - loss: 0.0995 - val_loss: 0.0976\n",
      "Epoch 8/100\n",
      "60000/60000 [==============================] - 6s 105us/step - loss: 0.0980 - val_loss: 0.0962\n",
      "Epoch 9/100\n",
      "60000/60000 [==============================] - 6s 93us/step - loss: 0.0968 - val_loss: 0.0951\n",
      "Epoch 10/100\n",
      "60000/60000 [==============================] - 6s 107us/step - loss: 0.0957 - val_loss: 0.0943\n",
      "Epoch 11/100\n",
      "60000/60000 [==============================] - 6s 93us/step - loss: 0.0949 - val_loss: 0.0936\n",
      "Epoch 12/100\n",
      "60000/60000 [==============================] - 6s 93us/step - loss: 0.0940 - val_loss: 0.0927\n",
      "Epoch 13/100\n",
      "60000/60000 [==============================] - 6s 98us/step - loss: 0.0932 - val_loss: 0.0917\n",
      "Epoch 14/100\n",
      "60000/60000 [==============================] - 6s 93us/step - loss: 0.0926 - val_loss: 0.0911\n",
      "Epoch 15/100\n",
      "60000/60000 [==============================] - 6s 93us/step - loss: 0.0919 - val_loss: 0.0909\n",
      "Epoch 16/100\n",
      "60000/60000 [==============================] - 6s 93us/step - loss: 0.0914 - val_loss: 0.0900\n",
      "Epoch 17/100\n",
      "60000/60000 [==============================] - 6s 92us/step - loss: 0.0908 - val_loss: 0.0896\n",
      "Epoch 18/100\n",
      "60000/60000 [==============================] - 6s 94us/step - loss: 0.0903 - val_loss: 0.0889\n",
      "Epoch 19/100\n",
      "60000/60000 [==============================] - 6s 93us/step - loss: 0.0898 - val_loss: 0.0886\n",
      "Epoch 20/100\n",
      "60000/60000 [==============================] - 6s 97us/step - loss: 0.0894 - val_loss: 0.0881\n",
      "Epoch 21/100\n",
      "60000/60000 [==============================] - 6s 94us/step - loss: 0.0890 - val_loss: 0.0881\n",
      "Epoch 22/100\n",
      "60000/60000 [==============================] - 6s 97us/step - loss: 0.0887 - val_loss: 0.0877\n",
      "Epoch 23/100\n",
      "60000/60000 [==============================] - 6s 95us/step - loss: 0.0883 - val_loss: 0.0869\n",
      "Epoch 24/100\n",
      "60000/60000 [==============================] - 6s 98us/step - loss: 0.0879 - val_loss: 0.0866\n",
      "Epoch 25/100\n",
      "60000/60000 [==============================] - 6s 94us/step - loss: 0.0876 - val_loss: 0.0863\n",
      "Epoch 26/100\n",
      "60000/60000 [==============================] - 6s 99us/step - loss: 0.0873 - val_loss: 0.0860\n",
      "Epoch 27/100\n",
      "60000/60000 [==============================] - 6s 99us/step - loss: 0.0870 - val_loss: 0.0856\n",
      "Epoch 28/100\n",
      "60000/60000 [==============================] - 6s 97us/step - loss: 0.0867 - val_loss: 0.0860\n",
      "Epoch 29/100\n",
      "60000/60000 [==============================] - 6s 99us/step - loss: 0.0864 - val_loss: 0.0851\n",
      "Epoch 30/100\n",
      "60000/60000 [==============================] - 6s 99us/step - loss: 0.0860 - val_loss: 0.0855\n",
      "Epoch 31/100\n",
      "60000/60000 [==============================] - 6s 94us/step - loss: 0.0858 - val_loss: 0.0845\n",
      "Epoch 32/100\n",
      "60000/60000 [==============================] - 6s 93us/step - loss: 0.0855 - val_loss: 0.0850\n",
      "Epoch 33/100\n",
      "60000/60000 [==============================] - 6s 92us/step - loss: 0.0853 - val_loss: 0.0840\n",
      "Epoch 34/100\n",
      "60000/60000 [==============================] - 6s 93us/step - loss: 0.0852 - val_loss: 0.0840\n",
      "Epoch 35/100\n",
      "60000/60000 [==============================] - 6s 93us/step - loss: 0.0849 - val_loss: 0.0837\n",
      "Epoch 36/100\n",
      "60000/60000 [==============================] - 6s 94us/step - loss: 0.0848 - val_loss: 0.0836\n",
      "Epoch 37/100\n",
      "60000/60000 [==============================] - 6s 94us/step - loss: 0.0845 - val_loss: 0.0834\n",
      "Epoch 38/100\n",
      "60000/60000 [==============================] - 6s 98us/step - loss: 0.0844 - val_loss: 0.0833\n",
      "Epoch 39/100\n",
      "60000/60000 [==============================] - 6s 93us/step - loss: 0.0842 - val_loss: 0.0831\n",
      "Epoch 40/100\n",
      "60000/60000 [==============================] - 6s 95us/step - loss: 0.0841 - val_loss: 0.0831\n",
      "Epoch 41/100\n",
      "60000/60000 [==============================] - 6s 93us/step - loss: 0.0840 - val_loss: 0.0838\n",
      "Epoch 42/100\n",
      "60000/60000 [==============================] - 6s 93us/step - loss: 0.0839 - val_loss: 0.0828\n",
      "Epoch 43/100\n",
      "60000/60000 [==============================] - 6s 92us/step - loss: 0.0838 - val_loss: 0.0826\n",
      "Epoch 44/100\n",
      "60000/60000 [==============================] - 6s 94us/step - loss: 0.0837 - val_loss: 0.0829\n",
      "Epoch 45/100\n",
      "60000/60000 [==============================] - 6s 93us/step - loss: 0.0836 - val_loss: 0.0824\n",
      "Epoch 46/100\n",
      "60000/60000 [==============================] - 6s 93us/step - loss: 0.0834 - val_loss: 0.0827\n",
      "Epoch 47/100\n",
      "60000/60000 [==============================] - 6s 93us/step - loss: 0.0834 - val_loss: 0.0821\n",
      "Epoch 48/100\n",
      "60000/60000 [==============================] - 6s 93us/step - loss: 0.0833 - val_loss: 0.0822\n",
      "Epoch 49/100\n",
      "60000/60000 [==============================] - 6s 94us/step - loss: 0.0831 - val_loss: 0.0823\n",
      "Epoch 50/100\n",
      "60000/60000 [==============================] - 6s 93us/step - loss: 0.0831 - val_loss: 0.0822\n",
      "Epoch 51/100\n",
      "60000/60000 [==============================] - 6s 93us/step - loss: 0.0830 - val_loss: 0.0821\n",
      "Epoch 52/100\n",
      "60000/60000 [==============================] - 6s 93us/step - loss: 0.0830 - val_loss: 0.0818\n",
      "Epoch 53/100\n",
      "60000/60000 [==============================] - 6s 94us/step - loss: 0.0828 - val_loss: 0.0818\n",
      "Epoch 54/100\n",
      "60000/60000 [==============================] - 6s 93us/step - loss: 0.0827 - val_loss: 0.0816\n",
      "Epoch 55/100\n",
      "60000/60000 [==============================] - 6s 94us/step - loss: 0.0827 - val_loss: 0.0821\n",
      "Epoch 56/100\n",
      "60000/60000 [==============================] - 6s 93us/step - loss: 0.0826 - val_loss: 0.0814\n",
      "Epoch 57/100\n",
      "60000/60000 [==============================] - 6s 93us/step - loss: 0.0825 - val_loss: 0.0813\n",
      "Epoch 58/100\n",
      "60000/60000 [==============================] - 6s 92us/step - loss: 0.0824 - val_loss: 0.0813\n",
      "Epoch 59/100\n",
      "60000/60000 [==============================] - 6s 93us/step - loss: 0.0823 - val_loss: 0.0813\n",
      "Epoch 60/100\n",
      "60000/60000 [==============================] - 6s 95us/step - loss: 0.0822 - val_loss: 0.0813\n",
      "Epoch 61/100\n",
      "60000/60000 [==============================] - 6s 95us/step - loss: 0.0822 - val_loss: 0.0811\n",
      "Epoch 62/100\n",
      "60000/60000 [==============================] - 6s 93us/step - loss: 0.0821 - val_loss: 0.0810\n",
      "Epoch 63/100\n",
      "60000/60000 [==============================] - 6s 93us/step - loss: 0.0820 - val_loss: 0.0809\n",
      "Epoch 64/100\n",
      "60000/60000 [==============================] - 6s 93us/step - loss: 0.0820 - val_loss: 0.0809\n",
      "Epoch 65/100\n",
      "60000/60000 [==============================] - 6s 93us/step - loss: 0.0818 - val_loss: 0.0808\n",
      "Epoch 66/100\n",
      "60000/60000 [==============================] - 6s 93us/step - loss: 0.0818 - val_loss: 0.0807\n",
      "Epoch 67/100\n",
      "60000/60000 [==============================] - 6s 97us/step - loss: 0.0818 - val_loss: 0.0809\n",
      "Epoch 68/100\n",
      "60000/60000 [==============================] - 6s 102us/step - loss: 0.0817 - val_loss: 0.0808\n",
      "Epoch 69/100\n",
      "60000/60000 [==============================] - 6s 98us/step - loss: 0.0817 - val_loss: 0.0805\n",
      "Epoch 70/100\n",
      "60000/60000 [==============================] - 6s 106us/step - loss: 0.0816 - val_loss: 0.0804\n",
      "Epoch 71/100\n",
      "60000/60000 [==============================] - 6s 99us/step - loss: 0.0815 - val_loss: 0.0807\n",
      "Epoch 72/100\n",
      "60000/60000 [==============================] - 6s 99us/step - loss: 0.0815 - val_loss: 0.0804\n",
      "Epoch 73/100\n",
      "60000/60000 [==============================] - 6s 98us/step - loss: 0.0814 - val_loss: 0.0806\n",
      "Epoch 74/100\n",
      "60000/60000 [==============================] - 6s 98us/step - loss: 0.0814 - val_loss: 0.0803\n",
      "Epoch 75/100\n",
      "60000/60000 [==============================] - 6s 100us/step - loss: 0.0813 - val_loss: 0.0803\n",
      "Epoch 76/100\n",
      "60000/60000 [==============================] - 6s 103us/step - loss: 0.0813 - val_loss: 0.0806\n",
      "Epoch 77/100\n"
     ]
    },
    {
     "name": "stdout",
     "output_type": "stream",
     "text": [
      "60000/60000 [==============================] - 6s 98us/step - loss: 0.0813 - val_loss: 0.0802\n",
      "Epoch 78/100\n",
      "60000/60000 [==============================] - 6s 94us/step - loss: 0.0812 - val_loss: 0.0805\n",
      "Epoch 79/100\n",
      "60000/60000 [==============================] - 6s 94us/step - loss: 0.0811 - val_loss: 0.0803\n",
      "Epoch 80/100\n",
      "60000/60000 [==============================] - 6s 93us/step - loss: 0.0811 - val_loss: 0.0800\n",
      "Epoch 81/100\n",
      "60000/60000 [==============================] - 6s 94us/step - loss: 0.0811 - val_loss: 0.0803\n",
      "Epoch 82/100\n",
      "60000/60000 [==============================] - 6s 98us/step - loss: 0.0810 - val_loss: 0.0800\n",
      "Epoch 83/100\n",
      "60000/60000 [==============================] - 6s 100us/step - loss: 0.0810 - val_loss: 0.0800\n",
      "Epoch 84/100\n",
      "60000/60000 [==============================] - 6s 96us/step - loss: 0.0809 - val_loss: 0.0800\n",
      "Epoch 85/100\n",
      "60000/60000 [==============================] - 6s 103us/step - loss: 0.0810 - val_loss: 0.0800\n",
      "Epoch 86/100\n",
      "60000/60000 [==============================] - 8s 133us/step - loss: 0.0808 - val_loss: 0.0798\n",
      "Epoch 87/100\n",
      "60000/60000 [==============================] - 7s 113us/step - loss: 0.0808 - val_loss: 0.0798\n",
      "Epoch 88/100\n",
      "60000/60000 [==============================] - 6s 106us/step - loss: 0.0808 - val_loss: 0.0801\n",
      "Epoch 89/100\n",
      "60000/60000 [==============================] - 6s 98us/step - loss: 0.0807 - val_loss: 0.0802\n",
      "Epoch 90/100\n",
      "60000/60000 [==============================] - 6s 96us/step - loss: 0.0807 - val_loss: 0.0803\n",
      "Epoch 91/100\n",
      "60000/60000 [==============================] - 6s 93us/step - loss: 0.0807 - val_loss: 0.0798\n",
      "Epoch 92/100\n",
      "60000/60000 [==============================] - 6s 94us/step - loss: 0.0806 - val_loss: 0.0796\n",
      "Epoch 93/100\n",
      "60000/60000 [==============================] - 6s 108us/step - loss: 0.0806 - val_loss: 0.0801\n",
      "Epoch 94/100\n",
      "60000/60000 [==============================] - 6s 102us/step - loss: 0.0806 - val_loss: 0.0798\n",
      "Epoch 95/100\n",
      "60000/60000 [==============================] - 6s 95us/step - loss: 0.0805 - val_loss: 0.0794\n",
      "Epoch 96/100\n",
      "60000/60000 [==============================] - 6s 97us/step - loss: 0.0805 - val_loss: 0.0794\n",
      "Epoch 97/100\n",
      "60000/60000 [==============================] - 6s 93us/step - loss: 0.0805 - val_loss: 0.0796\n",
      "Epoch 98/100\n",
      "60000/60000 [==============================] - 6s 102us/step - loss: 0.0805 - val_loss: 0.0793\n",
      "Epoch 99/100\n",
      "60000/60000 [==============================] - 6s 96us/step - loss: 0.0804 - val_loss: 0.0799\n",
      "Epoch 100/100\n",
      "60000/60000 [==============================] - 6s 101us/step - loss: 0.0804 - val_loss: 0.0793\n"
     ]
    },
    {
     "data": {
      "text/plain": [
       "<keras.callbacks.History at 0x2601839b2b0>"
      ]
     },
     "execution_count": 61,
     "metadata": {},
     "output_type": "execute_result"
    }
   ],
   "source": [
    "tb_callback = TensorBoard(log_dir='./logs/{}'.format(time()), histogram_freq=0, write_graph=True, write_images=True)\n",
    "autoencoder.compile(optimizer='adam', loss='binary_crossentropy')\n",
    "autoencoder.fit(x_train, x_train,\n",
    "                epochs=100,\n",
    "                batch_size=128,\n",
    "                validation_data=(x_test, x_test),\n",
    "                callbacks = [tb_callback])"
   ]
  },
  {
   "cell_type": "code",
   "execution_count": 62,
   "metadata": {},
   "outputs": [
    {
     "data": {
      "image/png": "[encoded data removed]",
      "text/plain": [
       "<Figure size 1296x288 with 30 Axes>"
      ]
     },
     "metadata": {
      "needs_background": "light"
     },
     "output_type": "display_data"
    }
   ],
   "source": [
    "num_images = 10\n",
    "np.random.seed(1234)\n",
    "random_test_images = np.random.randint(x_test.shape[0], size=num_images)\n",
    "\n",
    "encoded_imgs = encoder.predict(x_test)\n",
    "decoded_imgs = autoencoder.predict(x_test)\n",
    "\n",
    "plt.figure(figsize=(18, 4))\n",
    "\n",
    "for i, image_idx in enumerate(random_test_images):\n",
    "    # plot original image\n",
    "    ax = plt.subplot(3, num_images, i + 1)\n",
    "    plt.imshow(x_test[image_idx].reshape(28, 28))\n",
    "    plt.gray()\n",
    "    ax.get_xaxis().set_visible(False)\n",
    "    ax.get_yaxis().set_visible(False)\n",
    "    \n",
    "    # plot encoded image\n",
    "    ax = plt.subplot(3, num_images, num_images + i + 1)\n",
    "    plt.imshow(encoded_imgs[image_idx].reshape(16, 8))\n",
    "    plt.gray()\n",
    "    ax.get_xaxis().set_visible(False)\n",
    "    ax.get_yaxis().set_visible(False)\n",
    "\n",
    "    # plot reconstructed image\n",
    "    ax = plt.subplot(3, num_images, 2*num_images + i + 1)\n",
    "    plt.imshow(decoded_imgs[image_idx].reshape(28, 28))\n",
    "    plt.gray()\n",
    "    ax.get_xaxis().set_visible(False)\n",
    "    ax.get_yaxis().set_visible(False)\n",
    "plt.show()"
   ]
  }
 ],
 "metadata": {
  "kernelspec": {
   "display_name": "Python 3",
   "language": "python",
   "name": "python3"
  },
  "language_info": {
   "codemirror_mode": {
    "name": "ipython",
    "version": 3
   },
   "file_extension": ".py",
   "mimetype": "text/x-python",
   "name": "python",
   "nbconvert_exporter": "python",
   "pygments_lexer": "ipython3",
   "version": "3.5.5"
  }
 },
 "nbformat": 4,
 "nbformat_minor": 2
}
